{
 "cells": [
  {
   "cell_type": "code",
   "id": "f328865c",
   "metadata": {
    "ExecuteTime": {
     "end_time": "2025-09-29T10:48:08.685795Z",
     "start_time": "2025-09-29T10:48:08.537039Z"
    }
   },
   "source": [
    "import numpy as np\n",
    "import pandas as pd\n",
    "import seaborn as sns\n",
    "import matplotlib.pyplot as plt\n",
    "import sklearn.preprocessing as prepoc\n",
    "from sklearn.preprocessing import OneHotEncoder, StandardScaler\n",
    "%matplotlib inline"
   ],
   "outputs": [],
   "execution_count": 1
  },
  {
   "cell_type": "markdown",
   "id": "de5cda03",
   "metadata": {},
   "source": [
    "### Loading data"
   ]
  },
  {
   "cell_type": "code",
   "id": "02244444",
   "metadata": {
    "ExecuteTime": {
     "end_time": "2025-09-29T10:48:08.708366Z",
     "start_time": "2025-09-29T10:48:08.694473Z"
    }
   },
   "source": [
    "data_dir = \"../data/train.csv\"\n",
    "df = pd.read_csv(data_dir)"
   ],
   "outputs": [],
   "execution_count": 2
  },
  {
   "cell_type": "markdown",
   "id": "d521f49e",
   "metadata": {
    "jp-MarkdownHeadingCollapsed": true
   },
   "source": [
    "# Data Exploration"
   ]
  },
  {
   "cell_type": "code",
   "id": "5351c4da",
   "metadata": {
    "ExecuteTime": {
     "end_time": "2025-09-29T10:48:08.727280Z",
     "start_time": "2025-09-29T10:48:08.713865Z"
    }
   },
   "source": [
    "df.head()"
   ],
   "outputs": [
    {
     "data": {
      "text/plain": [
       "   Id  MSSubClass MSZoning  LotFrontage  LotArea Street Alley LotShape  \\\n",
       "0   1          60       RL         65.0     8450   Pave   NaN      Reg   \n",
       "1   2          20       RL         80.0     9600   Pave   NaN      Reg   \n",
       "2   3          60       RL         68.0    11250   Pave   NaN      IR1   \n",
       "3   4          70       RL         60.0     9550   Pave   NaN      IR1   \n",
       "4   5          60       RL         84.0    14260   Pave   NaN      IR1   \n",
       "\n",
       "  LandContour Utilities  ... PoolArea PoolQC Fence MiscFeature MiscVal MoSold  \\\n",
       "0         Lvl    AllPub  ...        0    NaN   NaN         NaN       0      2   \n",
       "1         Lvl    AllPub  ...        0    NaN   NaN         NaN       0      5   \n",
       "2         Lvl    AllPub  ...        0    NaN   NaN         NaN       0      9   \n",
       "3         Lvl    AllPub  ...        0    NaN   NaN         NaN       0      2   \n",
       "4         Lvl    AllPub  ...        0    NaN   NaN         NaN       0     12   \n",
       "\n",
       "  YrSold  SaleType  SaleCondition  SalePrice  \n",
       "0   2008        WD         Normal     208500  \n",
       "1   2007        WD         Normal     181500  \n",
       "2   2008        WD         Normal     223500  \n",
       "3   2006        WD        Abnorml     140000  \n",
       "4   2008        WD         Normal     250000  \n",
       "\n",
       "[5 rows x 81 columns]"
      ],
      "text/html": [
       "<div>\n",
       "<style scoped>\n",
       "    .dataframe tbody tr th:only-of-type {\n",
       "        vertical-align: middle;\n",
       "    }\n",
       "\n",
       "    .dataframe tbody tr th {\n",
       "        vertical-align: top;\n",
       "    }\n",
       "\n",
       "    .dataframe thead th {\n",
       "        text-align: right;\n",
       "    }\n",
       "</style>\n",
       "<table border=\"1\" class=\"dataframe\">\n",
       "  <thead>\n",
       "    <tr style=\"text-align: right;\">\n",
       "      <th></th>\n",
       "      <th>Id</th>\n",
       "      <th>MSSubClass</th>\n",
       "      <th>MSZoning</th>\n",
       "      <th>LotFrontage</th>\n",
       "      <th>LotArea</th>\n",
       "      <th>Street</th>\n",
       "      <th>Alley</th>\n",
       "      <th>LotShape</th>\n",
       "      <th>LandContour</th>\n",
       "      <th>Utilities</th>\n",
       "      <th>...</th>\n",
       "      <th>PoolArea</th>\n",
       "      <th>PoolQC</th>\n",
       "      <th>Fence</th>\n",
       "      <th>MiscFeature</th>\n",
       "      <th>MiscVal</th>\n",
       "      <th>MoSold</th>\n",
       "      <th>YrSold</th>\n",
       "      <th>SaleType</th>\n",
       "      <th>SaleCondition</th>\n",
       "      <th>SalePrice</th>\n",
       "    </tr>\n",
       "  </thead>\n",
       "  <tbody>\n",
       "    <tr>\n",
       "      <th>0</th>\n",
       "      <td>1</td>\n",
       "      <td>60</td>\n",
       "      <td>RL</td>\n",
       "      <td>65.0</td>\n",
       "      <td>8450</td>\n",
       "      <td>Pave</td>\n",
       "      <td>NaN</td>\n",
       "      <td>Reg</td>\n",
       "      <td>Lvl</td>\n",
       "      <td>AllPub</td>\n",
       "      <td>...</td>\n",
       "      <td>0</td>\n",
       "      <td>NaN</td>\n",
       "      <td>NaN</td>\n",
       "      <td>NaN</td>\n",
       "      <td>0</td>\n",
       "      <td>2</td>\n",
       "      <td>2008</td>\n",
       "      <td>WD</td>\n",
       "      <td>Normal</td>\n",
       "      <td>208500</td>\n",
       "    </tr>\n",
       "    <tr>\n",
       "      <th>1</th>\n",
       "      <td>2</td>\n",
       "      <td>20</td>\n",
       "      <td>RL</td>\n",
       "      <td>80.0</td>\n",
       "      <td>9600</td>\n",
       "      <td>Pave</td>\n",
       "      <td>NaN</td>\n",
       "      <td>Reg</td>\n",
       "      <td>Lvl</td>\n",
       "      <td>AllPub</td>\n",
       "      <td>...</td>\n",
       "      <td>0</td>\n",
       "      <td>NaN</td>\n",
       "      <td>NaN</td>\n",
       "      <td>NaN</td>\n",
       "      <td>0</td>\n",
       "      <td>5</td>\n",
       "      <td>2007</td>\n",
       "      <td>WD</td>\n",
       "      <td>Normal</td>\n",
       "      <td>181500</td>\n",
       "    </tr>\n",
       "    <tr>\n",
       "      <th>2</th>\n",
       "      <td>3</td>\n",
       "      <td>60</td>\n",
       "      <td>RL</td>\n",
       "      <td>68.0</td>\n",
       "      <td>11250</td>\n",
       "      <td>Pave</td>\n",
       "      <td>NaN</td>\n",
       "      <td>IR1</td>\n",
       "      <td>Lvl</td>\n",
       "      <td>AllPub</td>\n",
       "      <td>...</td>\n",
       "      <td>0</td>\n",
       "      <td>NaN</td>\n",
       "      <td>NaN</td>\n",
       "      <td>NaN</td>\n",
       "      <td>0</td>\n",
       "      <td>9</td>\n",
       "      <td>2008</td>\n",
       "      <td>WD</td>\n",
       "      <td>Normal</td>\n",
       "      <td>223500</td>\n",
       "    </tr>\n",
       "    <tr>\n",
       "      <th>3</th>\n",
       "      <td>4</td>\n",
       "      <td>70</td>\n",
       "      <td>RL</td>\n",
       "      <td>60.0</td>\n",
       "      <td>9550</td>\n",
       "      <td>Pave</td>\n",
       "      <td>NaN</td>\n",
       "      <td>IR1</td>\n",
       "      <td>Lvl</td>\n",
       "      <td>AllPub</td>\n",
       "      <td>...</td>\n",
       "      <td>0</td>\n",
       "      <td>NaN</td>\n",
       "      <td>NaN</td>\n",
       "      <td>NaN</td>\n",
       "      <td>0</td>\n",
       "      <td>2</td>\n",
       "      <td>2006</td>\n",
       "      <td>WD</td>\n",
       "      <td>Abnorml</td>\n",
       "      <td>140000</td>\n",
       "    </tr>\n",
       "    <tr>\n",
       "      <th>4</th>\n",
       "      <td>5</td>\n",
       "      <td>60</td>\n",
       "      <td>RL</td>\n",
       "      <td>84.0</td>\n",
       "      <td>14260</td>\n",
       "      <td>Pave</td>\n",
       "      <td>NaN</td>\n",
       "      <td>IR1</td>\n",
       "      <td>Lvl</td>\n",
       "      <td>AllPub</td>\n",
       "      <td>...</td>\n",
       "      <td>0</td>\n",
       "      <td>NaN</td>\n",
       "      <td>NaN</td>\n",
       "      <td>NaN</td>\n",
       "      <td>0</td>\n",
       "      <td>12</td>\n",
       "      <td>2008</td>\n",
       "      <td>WD</td>\n",
       "      <td>Normal</td>\n",
       "      <td>250000</td>\n",
       "    </tr>\n",
       "  </tbody>\n",
       "</table>\n",
       "<p>5 rows × 81 columns</p>\n",
       "</div>"
      ]
     },
     "execution_count": 3,
     "metadata": {},
     "output_type": "execute_result"
    }
   ],
   "execution_count": 3
  },
  {
   "cell_type": "markdown",
   "id": "634f8594",
   "metadata": {
    "jp-MarkdownHeadingCollapsed": true
   },
   "source": [
    "### Columns info"
   ]
  },
  {
   "cell_type": "code",
   "id": "238e1970",
   "metadata": {
    "scrolled": true,
    "ExecuteTime": {
     "end_time": "2025-09-29T10:48:08.743494Z",
     "start_time": "2025-09-29T10:48:08.733846Z"
    }
   },
   "source": [
    "df.info()"
   ],
   "outputs": [
    {
     "name": "stdout",
     "output_type": "stream",
     "text": [
      "<class 'pandas.core.frame.DataFrame'>\n",
      "RangeIndex: 1460 entries, 0 to 1459\n",
      "Data columns (total 81 columns):\n",
      " #   Column         Non-Null Count  Dtype  \n",
      "---  ------         --------------  -----  \n",
      " 0   Id             1460 non-null   int64  \n",
      " 1   MSSubClass     1460 non-null   int64  \n",
      " 2   MSZoning       1460 non-null   object \n",
      " 3   LotFrontage    1201 non-null   float64\n",
      " 4   LotArea        1460 non-null   int64  \n",
      " 5   Street         1460 non-null   object \n",
      " 6   Alley          91 non-null     object \n",
      " 7   LotShape       1460 non-null   object \n",
      " 8   LandContour    1460 non-null   object \n",
      " 9   Utilities      1460 non-null   object \n",
      " 10  LotConfig      1460 non-null   object \n",
      " 11  LandSlope      1460 non-null   object \n",
      " 12  Neighborhood   1460 non-null   object \n",
      " 13  Condition1     1460 non-null   object \n",
      " 14  Condition2     1460 non-null   object \n",
      " 15  BldgType       1460 non-null   object \n",
      " 16  HouseStyle     1460 non-null   object \n",
      " 17  OverallQual    1460 non-null   int64  \n",
      " 18  OverallCond    1460 non-null   int64  \n",
      " 19  YearBuilt      1460 non-null   int64  \n",
      " 20  YearRemodAdd   1460 non-null   int64  \n",
      " 21  RoofStyle      1460 non-null   object \n",
      " 22  RoofMatl       1460 non-null   object \n",
      " 23  Exterior1st    1460 non-null   object \n",
      " 24  Exterior2nd    1460 non-null   object \n",
      " 25  MasVnrType     588 non-null    object \n",
      " 26  MasVnrArea     1452 non-null   float64\n",
      " 27  ExterQual      1460 non-null   object \n",
      " 28  ExterCond      1460 non-null   object \n",
      " 29  Foundation     1460 non-null   object \n",
      " 30  BsmtQual       1423 non-null   object \n",
      " 31  BsmtCond       1423 non-null   object \n",
      " 32  BsmtExposure   1422 non-null   object \n",
      " 33  BsmtFinType1   1423 non-null   object \n",
      " 34  BsmtFinSF1     1460 non-null   int64  \n",
      " 35  BsmtFinType2   1422 non-null   object \n",
      " 36  BsmtFinSF2     1460 non-null   int64  \n",
      " 37  BsmtUnfSF      1460 non-null   int64  \n",
      " 38  TotalBsmtSF    1460 non-null   int64  \n",
      " 39  Heating        1460 non-null   object \n",
      " 40  HeatingQC      1460 non-null   object \n",
      " 41  CentralAir     1460 non-null   object \n",
      " 42  Electrical     1459 non-null   object \n",
      " 43  1stFlrSF       1460 non-null   int64  \n",
      " 44  2ndFlrSF       1460 non-null   int64  \n",
      " 45  LowQualFinSF   1460 non-null   int64  \n",
      " 46  GrLivArea      1460 non-null   int64  \n",
      " 47  BsmtFullBath   1460 non-null   int64  \n",
      " 48  BsmtHalfBath   1460 non-null   int64  \n",
      " 49  FullBath       1460 non-null   int64  \n",
      " 50  HalfBath       1460 non-null   int64  \n",
      " 51  BedroomAbvGr   1460 non-null   int64  \n",
      " 52  KitchenAbvGr   1460 non-null   int64  \n",
      " 53  KitchenQual    1460 non-null   object \n",
      " 54  TotRmsAbvGrd   1460 non-null   int64  \n",
      " 55  Functional     1460 non-null   object \n",
      " 56  Fireplaces     1460 non-null   int64  \n",
      " 57  FireplaceQu    770 non-null    object \n",
      " 58  GarageType     1379 non-null   object \n",
      " 59  GarageYrBlt    1379 non-null   float64\n",
      " 60  GarageFinish   1379 non-null   object \n",
      " 61  GarageCars     1460 non-null   int64  \n",
      " 62  GarageArea     1460 non-null   int64  \n",
      " 63  GarageQual     1379 non-null   object \n",
      " 64  GarageCond     1379 non-null   object \n",
      " 65  PavedDrive     1460 non-null   object \n",
      " 66  WoodDeckSF     1460 non-null   int64  \n",
      " 67  OpenPorchSF    1460 non-null   int64  \n",
      " 68  EnclosedPorch  1460 non-null   int64  \n",
      " 69  3SsnPorch      1460 non-null   int64  \n",
      " 70  ScreenPorch    1460 non-null   int64  \n",
      " 71  PoolArea       1460 non-null   int64  \n",
      " 72  PoolQC         7 non-null      object \n",
      " 73  Fence          281 non-null    object \n",
      " 74  MiscFeature    54 non-null     object \n",
      " 75  MiscVal        1460 non-null   int64  \n",
      " 76  MoSold         1460 non-null   int64  \n",
      " 77  YrSold         1460 non-null   int64  \n",
      " 78  SaleType       1460 non-null   object \n",
      " 79  SaleCondition  1460 non-null   object \n",
      " 80  SalePrice      1460 non-null   int64  \n",
      "dtypes: float64(3), int64(35), object(43)\n",
      "memory usage: 924.0+ KB\n"
     ]
    }
   ],
   "execution_count": 4
  },
  {
   "cell_type": "markdown",
   "id": "23132958",
   "metadata": {},
   "source": [
    "### Numerical columns"
   ]
  },
  {
   "cell_type": "code",
   "id": "4c1f1dd7",
   "metadata": {
    "ExecuteTime": {
     "end_time": "2025-09-29T10:48:08.776463Z",
     "start_time": "2025-09-29T10:48:08.759780Z"
    }
   },
   "source": [
    "num_columns = df.describe().columns[1:]\n",
    "print(num_columns.array)"
   ],
   "outputs": [
    {
     "name": "stdout",
     "output_type": "stream",
     "text": [
      "<NumpyExtensionArray>\n",
      "[   'MSSubClass',   'LotFrontage',       'LotArea',   'OverallQual',\n",
      "   'OverallCond',     'YearBuilt',  'YearRemodAdd',    'MasVnrArea',\n",
      "    'BsmtFinSF1',    'BsmtFinSF2',     'BsmtUnfSF',   'TotalBsmtSF',\n",
      "      '1stFlrSF',      '2ndFlrSF',  'LowQualFinSF',     'GrLivArea',\n",
      "  'BsmtFullBath',  'BsmtHalfBath',      'FullBath',      'HalfBath',\n",
      "  'BedroomAbvGr',  'KitchenAbvGr',  'TotRmsAbvGrd',    'Fireplaces',\n",
      "   'GarageYrBlt',    'GarageCars',    'GarageArea',    'WoodDeckSF',\n",
      "   'OpenPorchSF', 'EnclosedPorch',     '3SsnPorch',   'ScreenPorch',\n",
      "      'PoolArea',       'MiscVal',        'MoSold',        'YrSold',\n",
      "     'SalePrice']\n",
      "Length: 37, dtype: object\n"
     ]
    }
   ],
   "execution_count": 5
  },
  {
   "cell_type": "code",
   "id": "9a49dced-d23e-475d-83fd-a77964c34b26",
   "metadata": {
    "ExecuteTime": {
     "end_time": "2025-09-29T10:48:08.792367Z",
     "start_time": "2025-09-29T10:48:08.785590Z"
    }
   },
   "source": [
    "df[num_columns].head()"
   ],
   "outputs": [
    {
     "data": {
      "text/plain": [
       "   MSSubClass  LotFrontage  LotArea  OverallQual  OverallCond  YearBuilt  \\\n",
       "0          60         65.0     8450            7            5       2003   \n",
       "1          20         80.0     9600            6            8       1976   \n",
       "2          60         68.0    11250            7            5       2001   \n",
       "3          70         60.0     9550            7            5       1915   \n",
       "4          60         84.0    14260            8            5       2000   \n",
       "\n",
       "   YearRemodAdd  MasVnrArea  BsmtFinSF1  BsmtFinSF2  ...  WoodDeckSF  \\\n",
       "0          2003       196.0         706           0  ...           0   \n",
       "1          1976         0.0         978           0  ...         298   \n",
       "2          2002       162.0         486           0  ...           0   \n",
       "3          1970         0.0         216           0  ...           0   \n",
       "4          2000       350.0         655           0  ...         192   \n",
       "\n",
       "   OpenPorchSF  EnclosedPorch  3SsnPorch  ScreenPorch  PoolArea  MiscVal  \\\n",
       "0           61              0          0            0         0        0   \n",
       "1            0              0          0            0         0        0   \n",
       "2           42              0          0            0         0        0   \n",
       "3           35            272          0            0         0        0   \n",
       "4           84              0          0            0         0        0   \n",
       "\n",
       "   MoSold  YrSold  SalePrice  \n",
       "0       2    2008     208500  \n",
       "1       5    2007     181500  \n",
       "2       9    2008     223500  \n",
       "3       2    2006     140000  \n",
       "4      12    2008     250000  \n",
       "\n",
       "[5 rows x 37 columns]"
      ],
      "text/html": [
       "<div>\n",
       "<style scoped>\n",
       "    .dataframe tbody tr th:only-of-type {\n",
       "        vertical-align: middle;\n",
       "    }\n",
       "\n",
       "    .dataframe tbody tr th {\n",
       "        vertical-align: top;\n",
       "    }\n",
       "\n",
       "    .dataframe thead th {\n",
       "        text-align: right;\n",
       "    }\n",
       "</style>\n",
       "<table border=\"1\" class=\"dataframe\">\n",
       "  <thead>\n",
       "    <tr style=\"text-align: right;\">\n",
       "      <th></th>\n",
       "      <th>MSSubClass</th>\n",
       "      <th>LotFrontage</th>\n",
       "      <th>LotArea</th>\n",
       "      <th>OverallQual</th>\n",
       "      <th>OverallCond</th>\n",
       "      <th>YearBuilt</th>\n",
       "      <th>YearRemodAdd</th>\n",
       "      <th>MasVnrArea</th>\n",
       "      <th>BsmtFinSF1</th>\n",
       "      <th>BsmtFinSF2</th>\n",
       "      <th>...</th>\n",
       "      <th>WoodDeckSF</th>\n",
       "      <th>OpenPorchSF</th>\n",
       "      <th>EnclosedPorch</th>\n",
       "      <th>3SsnPorch</th>\n",
       "      <th>ScreenPorch</th>\n",
       "      <th>PoolArea</th>\n",
       "      <th>MiscVal</th>\n",
       "      <th>MoSold</th>\n",
       "      <th>YrSold</th>\n",
       "      <th>SalePrice</th>\n",
       "    </tr>\n",
       "  </thead>\n",
       "  <tbody>\n",
       "    <tr>\n",
       "      <th>0</th>\n",
       "      <td>60</td>\n",
       "      <td>65.0</td>\n",
       "      <td>8450</td>\n",
       "      <td>7</td>\n",
       "      <td>5</td>\n",
       "      <td>2003</td>\n",
       "      <td>2003</td>\n",
       "      <td>196.0</td>\n",
       "      <td>706</td>\n",
       "      <td>0</td>\n",
       "      <td>...</td>\n",
       "      <td>0</td>\n",
       "      <td>61</td>\n",
       "      <td>0</td>\n",
       "      <td>0</td>\n",
       "      <td>0</td>\n",
       "      <td>0</td>\n",
       "      <td>0</td>\n",
       "      <td>2</td>\n",
       "      <td>2008</td>\n",
       "      <td>208500</td>\n",
       "    </tr>\n",
       "    <tr>\n",
       "      <th>1</th>\n",
       "      <td>20</td>\n",
       "      <td>80.0</td>\n",
       "      <td>9600</td>\n",
       "      <td>6</td>\n",
       "      <td>8</td>\n",
       "      <td>1976</td>\n",
       "      <td>1976</td>\n",
       "      <td>0.0</td>\n",
       "      <td>978</td>\n",
       "      <td>0</td>\n",
       "      <td>...</td>\n",
       "      <td>298</td>\n",
       "      <td>0</td>\n",
       "      <td>0</td>\n",
       "      <td>0</td>\n",
       "      <td>0</td>\n",
       "      <td>0</td>\n",
       "      <td>0</td>\n",
       "      <td>5</td>\n",
       "      <td>2007</td>\n",
       "      <td>181500</td>\n",
       "    </tr>\n",
       "    <tr>\n",
       "      <th>2</th>\n",
       "      <td>60</td>\n",
       "      <td>68.0</td>\n",
       "      <td>11250</td>\n",
       "      <td>7</td>\n",
       "      <td>5</td>\n",
       "      <td>2001</td>\n",
       "      <td>2002</td>\n",
       "      <td>162.0</td>\n",
       "      <td>486</td>\n",
       "      <td>0</td>\n",
       "      <td>...</td>\n",
       "      <td>0</td>\n",
       "      <td>42</td>\n",
       "      <td>0</td>\n",
       "      <td>0</td>\n",
       "      <td>0</td>\n",
       "      <td>0</td>\n",
       "      <td>0</td>\n",
       "      <td>9</td>\n",
       "      <td>2008</td>\n",
       "      <td>223500</td>\n",
       "    </tr>\n",
       "    <tr>\n",
       "      <th>3</th>\n",
       "      <td>70</td>\n",
       "      <td>60.0</td>\n",
       "      <td>9550</td>\n",
       "      <td>7</td>\n",
       "      <td>5</td>\n",
       "      <td>1915</td>\n",
       "      <td>1970</td>\n",
       "      <td>0.0</td>\n",
       "      <td>216</td>\n",
       "      <td>0</td>\n",
       "      <td>...</td>\n",
       "      <td>0</td>\n",
       "      <td>35</td>\n",
       "      <td>272</td>\n",
       "      <td>0</td>\n",
       "      <td>0</td>\n",
       "      <td>0</td>\n",
       "      <td>0</td>\n",
       "      <td>2</td>\n",
       "      <td>2006</td>\n",
       "      <td>140000</td>\n",
       "    </tr>\n",
       "    <tr>\n",
       "      <th>4</th>\n",
       "      <td>60</td>\n",
       "      <td>84.0</td>\n",
       "      <td>14260</td>\n",
       "      <td>8</td>\n",
       "      <td>5</td>\n",
       "      <td>2000</td>\n",
       "      <td>2000</td>\n",
       "      <td>350.0</td>\n",
       "      <td>655</td>\n",
       "      <td>0</td>\n",
       "      <td>...</td>\n",
       "      <td>192</td>\n",
       "      <td>84</td>\n",
       "      <td>0</td>\n",
       "      <td>0</td>\n",
       "      <td>0</td>\n",
       "      <td>0</td>\n",
       "      <td>0</td>\n",
       "      <td>12</td>\n",
       "      <td>2008</td>\n",
       "      <td>250000</td>\n",
       "    </tr>\n",
       "  </tbody>\n",
       "</table>\n",
       "<p>5 rows × 37 columns</p>\n",
       "</div>"
      ]
     },
     "execution_count": 6,
     "metadata": {},
     "output_type": "execute_result"
    }
   ],
   "execution_count": 6
  },
  {
   "cell_type": "markdown",
   "id": "ba70c764-1062-4d49-a99f-89b2f7a6aea1",
   "metadata": {},
   "source": [
    "#### Count of numerical columns containing NaN (null) values"
   ]
  },
  {
   "cell_type": "code",
   "id": "bc72df2b-8705-48ac-a8a6-2287691e530f",
   "metadata": {
    "ExecuteTime": {
     "end_time": "2025-09-29T10:48:08.806704Z",
     "start_time": "2025-09-29T10:48:08.802884Z"
    }
   },
   "source": [
    "for key in df[num_columns]:\n",
    "    nan_values_count = df[key].isna().sum()\n",
    "    if nan_values_count != 0:\n",
    "        print(f\"{key}: {nan_values_count}\")"
   ],
   "outputs": [
    {
     "name": "stdout",
     "output_type": "stream",
     "text": [
      "LotFrontage: 259\n",
      "MasVnrArea: 8\n",
      "GarageYrBlt: 81\n"
     ]
    }
   ],
   "execution_count": 7
  },
  {
   "cell_type": "markdown",
   "id": "b446d6d0-59fa-4122-b5c2-74fb4487b5ed",
   "metadata": {},
   "source": [
    "### Non-Numerical columns"
   ]
  },
  {
   "cell_type": "code",
   "id": "e264f17e",
   "metadata": {
    "ExecuteTime": {
     "end_time": "2025-09-29T10:48:08.817514Z",
     "start_time": "2025-09-29T10:48:08.814775Z"
    }
   },
   "source": [
    "cat_columns = df.columns.difference(num_columns)\n",
    "print(cat_columns.array)"
   ],
   "outputs": [
    {
     "name": "stdout",
     "output_type": "stream",
     "text": [
      "<NumpyExtensionArray>\n",
      "[        'Alley',      'BldgType',      'BsmtCond',  'BsmtExposure',\n",
      "  'BsmtFinType1',  'BsmtFinType2',      'BsmtQual',    'CentralAir',\n",
      "    'Condition1',    'Condition2',    'Electrical',     'ExterCond',\n",
      "     'ExterQual',   'Exterior1st',   'Exterior2nd',         'Fence',\n",
      "   'FireplaceQu',    'Foundation',    'Functional',    'GarageCond',\n",
      "  'GarageFinish',    'GarageQual',    'GarageType',       'Heating',\n",
      "     'HeatingQC',    'HouseStyle',            'Id',   'KitchenQual',\n",
      "   'LandContour',     'LandSlope',     'LotConfig',      'LotShape',\n",
      "      'MSZoning',    'MasVnrType',   'MiscFeature',  'Neighborhood',\n",
      "    'PavedDrive',        'PoolQC',      'RoofMatl',     'RoofStyle',\n",
      " 'SaleCondition',      'SaleType',        'Street',     'Utilities']\n",
      "Length: 44, dtype: object\n"
     ]
    }
   ],
   "execution_count": 8
  },
  {
   "cell_type": "code",
   "id": "1e41f138",
   "metadata": {
    "ExecuteTime": {
     "end_time": "2025-09-29T10:48:08.833913Z",
     "start_time": "2025-09-29T10:48:08.826801Z"
    }
   },
   "source": [
    "df[cat_columns].head()"
   ],
   "outputs": [
    {
     "data": {
      "text/plain": [
       "  Alley BldgType BsmtCond BsmtExposure BsmtFinType1 BsmtFinType2 BsmtQual  \\\n",
       "0   NaN     1Fam       TA           No          GLQ          Unf       Gd   \n",
       "1   NaN     1Fam       TA           Gd          ALQ          Unf       Gd   \n",
       "2   NaN     1Fam       TA           Mn          GLQ          Unf       Gd   \n",
       "3   NaN     1Fam       Gd           No          ALQ          Unf       TA   \n",
       "4   NaN     1Fam       TA           Av          GLQ          Unf       Gd   \n",
       "\n",
       "  CentralAir Condition1 Condition2  ... MiscFeature Neighborhood PavedDrive  \\\n",
       "0          Y       Norm       Norm  ...         NaN      CollgCr          Y   \n",
       "1          Y      Feedr       Norm  ...         NaN      Veenker          Y   \n",
       "2          Y       Norm       Norm  ...         NaN      CollgCr          Y   \n",
       "3          Y       Norm       Norm  ...         NaN      Crawfor          Y   \n",
       "4          Y       Norm       Norm  ...         NaN      NoRidge          Y   \n",
       "\n",
       "  PoolQC RoofMatl RoofStyle SaleCondition SaleType Street Utilities  \n",
       "0    NaN  CompShg     Gable        Normal       WD   Pave    AllPub  \n",
       "1    NaN  CompShg     Gable        Normal       WD   Pave    AllPub  \n",
       "2    NaN  CompShg     Gable        Normal       WD   Pave    AllPub  \n",
       "3    NaN  CompShg     Gable       Abnorml       WD   Pave    AllPub  \n",
       "4    NaN  CompShg     Gable        Normal       WD   Pave    AllPub  \n",
       "\n",
       "[5 rows x 44 columns]"
      ],
      "text/html": [
       "<div>\n",
       "<style scoped>\n",
       "    .dataframe tbody tr th:only-of-type {\n",
       "        vertical-align: middle;\n",
       "    }\n",
       "\n",
       "    .dataframe tbody tr th {\n",
       "        vertical-align: top;\n",
       "    }\n",
       "\n",
       "    .dataframe thead th {\n",
       "        text-align: right;\n",
       "    }\n",
       "</style>\n",
       "<table border=\"1\" class=\"dataframe\">\n",
       "  <thead>\n",
       "    <tr style=\"text-align: right;\">\n",
       "      <th></th>\n",
       "      <th>Alley</th>\n",
       "      <th>BldgType</th>\n",
       "      <th>BsmtCond</th>\n",
       "      <th>BsmtExposure</th>\n",
       "      <th>BsmtFinType1</th>\n",
       "      <th>BsmtFinType2</th>\n",
       "      <th>BsmtQual</th>\n",
       "      <th>CentralAir</th>\n",
       "      <th>Condition1</th>\n",
       "      <th>Condition2</th>\n",
       "      <th>...</th>\n",
       "      <th>MiscFeature</th>\n",
       "      <th>Neighborhood</th>\n",
       "      <th>PavedDrive</th>\n",
       "      <th>PoolQC</th>\n",
       "      <th>RoofMatl</th>\n",
       "      <th>RoofStyle</th>\n",
       "      <th>SaleCondition</th>\n",
       "      <th>SaleType</th>\n",
       "      <th>Street</th>\n",
       "      <th>Utilities</th>\n",
       "    </tr>\n",
       "  </thead>\n",
       "  <tbody>\n",
       "    <tr>\n",
       "      <th>0</th>\n",
       "      <td>NaN</td>\n",
       "      <td>1Fam</td>\n",
       "      <td>TA</td>\n",
       "      <td>No</td>\n",
       "      <td>GLQ</td>\n",
       "      <td>Unf</td>\n",
       "      <td>Gd</td>\n",
       "      <td>Y</td>\n",
       "      <td>Norm</td>\n",
       "      <td>Norm</td>\n",
       "      <td>...</td>\n",
       "      <td>NaN</td>\n",
       "      <td>CollgCr</td>\n",
       "      <td>Y</td>\n",
       "      <td>NaN</td>\n",
       "      <td>CompShg</td>\n",
       "      <td>Gable</td>\n",
       "      <td>Normal</td>\n",
       "      <td>WD</td>\n",
       "      <td>Pave</td>\n",
       "      <td>AllPub</td>\n",
       "    </tr>\n",
       "    <tr>\n",
       "      <th>1</th>\n",
       "      <td>NaN</td>\n",
       "      <td>1Fam</td>\n",
       "      <td>TA</td>\n",
       "      <td>Gd</td>\n",
       "      <td>ALQ</td>\n",
       "      <td>Unf</td>\n",
       "      <td>Gd</td>\n",
       "      <td>Y</td>\n",
       "      <td>Feedr</td>\n",
       "      <td>Norm</td>\n",
       "      <td>...</td>\n",
       "      <td>NaN</td>\n",
       "      <td>Veenker</td>\n",
       "      <td>Y</td>\n",
       "      <td>NaN</td>\n",
       "      <td>CompShg</td>\n",
       "      <td>Gable</td>\n",
       "      <td>Normal</td>\n",
       "      <td>WD</td>\n",
       "      <td>Pave</td>\n",
       "      <td>AllPub</td>\n",
       "    </tr>\n",
       "    <tr>\n",
       "      <th>2</th>\n",
       "      <td>NaN</td>\n",
       "      <td>1Fam</td>\n",
       "      <td>TA</td>\n",
       "      <td>Mn</td>\n",
       "      <td>GLQ</td>\n",
       "      <td>Unf</td>\n",
       "      <td>Gd</td>\n",
       "      <td>Y</td>\n",
       "      <td>Norm</td>\n",
       "      <td>Norm</td>\n",
       "      <td>...</td>\n",
       "      <td>NaN</td>\n",
       "      <td>CollgCr</td>\n",
       "      <td>Y</td>\n",
       "      <td>NaN</td>\n",
       "      <td>CompShg</td>\n",
       "      <td>Gable</td>\n",
       "      <td>Normal</td>\n",
       "      <td>WD</td>\n",
       "      <td>Pave</td>\n",
       "      <td>AllPub</td>\n",
       "    </tr>\n",
       "    <tr>\n",
       "      <th>3</th>\n",
       "      <td>NaN</td>\n",
       "      <td>1Fam</td>\n",
       "      <td>Gd</td>\n",
       "      <td>No</td>\n",
       "      <td>ALQ</td>\n",
       "      <td>Unf</td>\n",
       "      <td>TA</td>\n",
       "      <td>Y</td>\n",
       "      <td>Norm</td>\n",
       "      <td>Norm</td>\n",
       "      <td>...</td>\n",
       "      <td>NaN</td>\n",
       "      <td>Crawfor</td>\n",
       "      <td>Y</td>\n",
       "      <td>NaN</td>\n",
       "      <td>CompShg</td>\n",
       "      <td>Gable</td>\n",
       "      <td>Abnorml</td>\n",
       "      <td>WD</td>\n",
       "      <td>Pave</td>\n",
       "      <td>AllPub</td>\n",
       "    </tr>\n",
       "    <tr>\n",
       "      <th>4</th>\n",
       "      <td>NaN</td>\n",
       "      <td>1Fam</td>\n",
       "      <td>TA</td>\n",
       "      <td>Av</td>\n",
       "      <td>GLQ</td>\n",
       "      <td>Unf</td>\n",
       "      <td>Gd</td>\n",
       "      <td>Y</td>\n",
       "      <td>Norm</td>\n",
       "      <td>Norm</td>\n",
       "      <td>...</td>\n",
       "      <td>NaN</td>\n",
       "      <td>NoRidge</td>\n",
       "      <td>Y</td>\n",
       "      <td>NaN</td>\n",
       "      <td>CompShg</td>\n",
       "      <td>Gable</td>\n",
       "      <td>Normal</td>\n",
       "      <td>WD</td>\n",
       "      <td>Pave</td>\n",
       "      <td>AllPub</td>\n",
       "    </tr>\n",
       "  </tbody>\n",
       "</table>\n",
       "<p>5 rows × 44 columns</p>\n",
       "</div>"
      ]
     },
     "execution_count": 9,
     "metadata": {},
     "output_type": "execute_result"
    }
   ],
   "execution_count": 9
  },
  {
   "cell_type": "markdown",
   "id": "deed24f7",
   "metadata": {},
   "source": [
    "#### Count of non-numerical columns containing NaN (null) values"
   ]
  },
  {
   "cell_type": "code",
   "id": "cc93e7ad",
   "metadata": {
    "ExecuteTime": {
     "end_time": "2025-09-29T10:48:08.847085Z",
     "start_time": "2025-09-29T10:48:08.841900Z"
    }
   },
   "source": [
    "for key in df[cat_columns]:\n",
    "    nan_values_count = df[key].isna().sum()\n",
    "    if nan_values_count != 0:\n",
    "        print(f\"{key}: {nan_values_count}\")"
   ],
   "outputs": [
    {
     "name": "stdout",
     "output_type": "stream",
     "text": [
      "Alley: 1369\n",
      "BsmtCond: 37\n",
      "BsmtExposure: 38\n",
      "BsmtFinType1: 37\n",
      "BsmtFinType2: 38\n",
      "BsmtQual: 37\n",
      "Electrical: 1\n",
      "Fence: 1179\n",
      "FireplaceQu: 690\n",
      "GarageCond: 81\n",
      "GarageFinish: 81\n",
      "GarageQual: 81\n",
      "GarageType: 81\n",
      "MasVnrType: 872\n",
      "MiscFeature: 1406\n",
      "PoolQC: 1453\n"
     ]
    }
   ],
   "execution_count": 10
  },
  {
   "cell_type": "markdown",
   "id": "9ba4883a-b967-4645-9445-a4e355818727",
   "metadata": {},
   "source": [
    "### The detailed exploration of each feature is located in the following eda notebooks accordingly:\n",
    "1. house_general_eda.ipynb: BldgType, MSSubClass, HouseStyle, Functional, OverallQual, OverallCond, YearBuilt, YearRemodAdd, 1stFlrSF, 2ndFlrSF, LowQualFinSF, GrLivArea, MiscFeature\n",
    "\n",
    "2. house_exterior_eda.ipynb: RoofStyle, RoofMatl, Exterior1st, Exterior2nd, MasVnrType, MasVnrArea, ExterQual, ExterCond, Foundation, WoodDeckSF, OpenPorchSF, EnclosedPorch, 3SsnPorch, ScreenPorch\n",
    "\n",
    "3. house_site_eda.ipynb: LotFrontage, LotArea, LotShape, LotConfig, Street, Alley, LandContour, LandSlope, Neighborhood, Fence, Condition1, Condition2, PavedDrive, PoolArea, PoolQC\n",
    "\n",
    "4. house_systems_and_utilities_eda.ipynb: Utilities, Heating, HeatingQC, CentralAir, Electrical, Fireplaces, FireplaceQu\n",
    "\n",
    "5. house_rooms_eda.ipynb: BsmtFullBath, BsmtHalfBath, FullBath, HalfBath, BedroomAbvGr, KitchenAbvGr, KitchenQual, TotRmsAbvGrd\n",
    "\n",
    "6. garage_eda.ipynb: GarageType, GarageYrBlt, GarageFinish, GarageCars, GarageArea, GarageQual, GarageCond\n",
    "\n",
    "7. basement_eda.ipynb: BsmtQual, BsmtCond, BsmtExposure, BsmtFinType1, BsmtFinSF1, BsmtFinType2, BsmtFinSF2, BsmtUnfSF, TotalBsmtSF\n",
    "\n",
    "8. sale_eda.ipynb: MiscVal, MoSold, YrSold, SaleType, SaleCondition, MSZoning"
   ]
  },
  {
   "cell_type": "markdown",
   "id": "0473f36d-2c75-43ec-b65d-391ab0352f25",
   "metadata": {},
   "source": [
    "# Data Transformation"
   ]
  },
  {
   "cell_type": "markdown",
   "id": "a02693f7-0784-4d43-8e79-b0d18ba10004",
   "metadata": {},
   "source": [
    "## Transformation of a target feature"
   ]
  },
  {
   "cell_type": "code",
   "id": "f6ab20c4-90fc-4759-aa19-511c0c512500",
   "metadata": {
    "ExecuteTime": {
     "end_time": "2025-09-29T10:48:08.930386Z",
     "start_time": "2025-09-29T10:48:08.859361Z"
    }
   },
   "source": [
    "df[[\"SalePrice\"]].hist(bins=10, figsize=(6, 5))"
   ],
   "outputs": [
    {
     "data": {
      "text/plain": [
       "array([[<Axes: title={'center': 'SalePrice'}>]], dtype=object)"
      ]
     },
     "execution_count": 11,
     "metadata": {},
     "output_type": "execute_result"
    },
    {
     "data": {
      "text/plain": [
       "<Figure size 600x500 with 1 Axes>"
      ],
      "image/png": "[encoded data removed]"
     },
     "metadata": {},
     "output_type": "display_data"
    }
   ],
   "execution_count": 11
  },
  {
   "cell_type": "code",
   "id": "ca477ff7-5773-4f92-84b1-1214a5c3ca9e",
   "metadata": {
    "ExecuteTime": {
     "end_time": "2025-09-29T10:48:08.943391Z",
     "start_time": "2025-09-29T10:48:08.940771Z"
    }
   },
   "source": [
    "### Log-scaling a sale price ###\n",
    "df[[\"SalePrice\"]] = np.log10(df[[\"SalePrice\"]] + 1)"
   ],
   "outputs": [],
   "execution_count": 12
  },
  {
   "cell_type": "code",
   "id": "5887761d-7dac-4b4b-9c84-f90ffffd8442",
   "metadata": {
    "ExecuteTime": {
     "end_time": "2025-09-29T10:48:08.992544Z",
     "start_time": "2025-09-29T10:48:08.947507Z"
    }
   },
   "source": [
    "df[[\"SalePrice\"]].hist(bins=10, figsize=(6, 5))"
   ],
   "outputs": [
    {
     "data": {
      "text/plain": [
       "array([[<Axes: title={'center': 'SalePrice'}>]], dtype=object)"
      ]
     },
     "execution_count": 13,
     "metadata": {},
     "output_type": "execute_result"
    },
    {
     "data": {
      "text/plain": [
       "<Figure size 600x500 with 1 Axes>"
      ],
      "image/png": "[encoded data removed]"
     },
     "metadata": {},
     "output_type": "display_data"
    }
   ],
   "execution_count": 13
  },
  {
   "metadata": {},
   "cell_type": "markdown",
   "source": "## Transformation of general house features (house_general_eda)",
   "id": "fdda3fc498d6ad16"
  },
  {
   "cell_type": "markdown",
   "id": "238bad31-c137-4060-935b-cf115c8e0383",
   "metadata": {},
   "source": [
    "### Transformation of numerical features"
   ]
  },
  {
   "cell_type": "code",
   "id": "7e73778b-06a4-4b29-b833-cb5e397533d1",
   "metadata": {
    "ExecuteTime": {
     "end_time": "2025-09-29T10:48:09.005430Z",
     "start_time": "2025-09-29T10:48:09.001113Z"
    }
   },
   "source": [
    "columns_to_log = [\"1stFlrSF\", \"GrLivArea\"]\n",
    "columns_to_std = [\"YearBuilt\", \"YearRemodAdd\", \"LowQualFinSF\", \"2ndFlrSF\", \"1stFlrSF\", \"GrLivArea\"]\n",
    "\n",
    "### Log scaling ###\n",
    "df[columns_to_log] = np.log10(df[columns_to_log] + 1)\n",
    "\n",
    "### Standard scaling ###\n",
    "scaler = StandardScaler()\n",
    "scaler.fit(df[columns_to_std])\n",
    "df[columns_to_std] = scaler.transform(df[columns_to_std])"
   ],
   "outputs": [],
   "execution_count": 14
  },
  {
   "cell_type": "code",
   "id": "3b8841b0-c894-4065-8542-432fc86c6745",
   "metadata": {
    "ExecuteTime": {
     "end_time": "2025-09-29T10:48:09.161245Z",
     "start_time": "2025-09-29T10:48:09.008670Z"
    }
   },
   "source": [
    "df[[\"YearBuilt\", \"YearRemodAdd\", \"LowQualFinSF\", \"1stFlrSF\", \"2ndFlrSF\", \"GrLivArea\"]].hist(bins=10, figsize=(10, 8))\n",
    "plt.show()"
   ],
   "outputs": [
    {
     "data": {
      "text/plain": [
       "<Figure size 1000x800 with 6 Axes>"
      ],
      "image/png": "[encoded data removed]"
     },
     "metadata": {},
     "output_type": "display_data"
    }
   ],
   "execution_count": 15
  },
  {
   "cell_type": "code",
   "id": "476e77e9-daf6-4760-8ce1-112ac063cdac",
   "metadata": {
    "scrolled": true,
    "ExecuteTime": {
     "end_time": "2025-09-29T10:48:09.181955Z",
     "start_time": "2025-09-29T10:48:09.171013Z"
    }
   },
   "source": [
    "df[[\"YearBuilt\", \"YearRemodAdd\", \"LowQualFinSF\", \"1stFlrSF\", \"2ndFlrSF\", \"GrLivArea\"]].describe()"
   ],
   "outputs": [
    {
     "data": {
      "text/plain": [
       "          YearBuilt  YearRemodAdd  LowQualFinSF      1stFlrSF      2ndFlrSF  \\\n",
       "count  1.460000e+03  1.460000e+03  1.460000e+03  1.460000e+03  1.460000e+03   \n",
       "mean   1.046347e-15  4.496860e-15  1.216683e-17  2.194287e-15 -1.825024e-17   \n",
       "std    1.000343e+00  1.000343e+00  1.000343e+00  1.000343e+00  1.000343e+00   \n",
       "min   -3.287824e+00 -1.689368e+00 -1.202417e-01 -3.763749e+00 -7.951632e-01   \n",
       "25%   -5.719226e-01 -8.656586e-01 -1.202417e-01 -7.094592e-01 -7.951632e-01   \n",
       "50%    5.737148e-02  4.425864e-01 -1.202417e-01 -5.154533e-02 -7.951632e-01   \n",
       "75%    9.516316e-01  9.271216e-01 -1.202417e-01  7.255204e-01  8.731117e-01   \n",
       "max    1.282839e+00  1.217843e+00  1.164775e+01  4.554909e+00  3.936963e+00   \n",
       "\n",
       "          GrLivArea  \n",
       "count  1.460000e+03  \n",
       "mean   8.595864e-16  \n",
       "std    1.000343e+00  \n",
       "min   -4.365036e+00  \n",
       "25%   -7.146000e-01  \n",
       "50%    6.332373e-02  \n",
       "75%    6.440545e-01  \n",
       "max    4.110760e+00  "
      ],
      "text/html": [
       "<div>\n",
       "<style scoped>\n",
       "    .dataframe tbody tr th:only-of-type {\n",
       "        vertical-align: middle;\n",
       "    }\n",
       "\n",
       "    .dataframe tbody tr th {\n",
       "        vertical-align: top;\n",
       "    }\n",
       "\n",
       "    .dataframe thead th {\n",
       "        text-align: right;\n",
       "    }\n",
       "</style>\n",
       "<table border=\"1\" class=\"dataframe\">\n",
       "  <thead>\n",
       "    <tr style=\"text-align: right;\">\n",
       "      <th></th>\n",
       "      <th>YearBuilt</th>\n",
       "      <th>YearRemodAdd</th>\n",
       "      <th>LowQualFinSF</th>\n",
       "      <th>1stFlrSF</th>\n",
       "      <th>2ndFlrSF</th>\n",
       "      <th>GrLivArea</th>\n",
       "    </tr>\n",
       "  </thead>\n",
       "  <tbody>\n",
       "    <tr>\n",
       "      <th>count</th>\n",
       "      <td>1.460000e+03</td>\n",
       "      <td>1.460000e+03</td>\n",
       "      <td>1.460000e+03</td>\n",
       "      <td>1.460000e+03</td>\n",
       "      <td>1.460000e+03</td>\n",
       "      <td>1.460000e+03</td>\n",
       "    </tr>\n",
       "    <tr>\n",
       "      <th>mean</th>\n",
       "      <td>1.046347e-15</td>\n",
       "      <td>4.496860e-15</td>\n",
       "      <td>1.216683e-17</td>\n",
       "      <td>2.194287e-15</td>\n",
       "      <td>-1.825024e-17</td>\n",
       "      <td>8.595864e-16</td>\n",
       "    </tr>\n",
       "    <tr>\n",
       "      <th>std</th>\n",
       "      <td>1.000343e+00</td>\n",
       "      <td>1.000343e+00</td>\n",
       "      <td>1.000343e+00</td>\n",
       "      <td>1.000343e+00</td>\n",
       "      <td>1.000343e+00</td>\n",
       "      <td>1.000343e+00</td>\n",
       "    </tr>\n",
       "    <tr>\n",
       "      <th>min</th>\n",
       "      <td>-3.287824e+00</td>\n",
       "      <td>-1.689368e+00</td>\n",
       "      <td>-1.202417e-01</td>\n",
       "      <td>-3.763749e+00</td>\n",
       "      <td>-7.951632e-01</td>\n",
       "      <td>-4.365036e+00</td>\n",
       "    </tr>\n",
       "    <tr>\n",
       "      <th>25%</th>\n",
       "      <td>-5.719226e-01</td>\n",
       "      <td>-8.656586e-01</td>\n",
       "      <td>-1.202417e-01</td>\n",
       "      <td>-7.094592e-01</td>\n",
       "      <td>-7.951632e-01</td>\n",
       "      <td>-7.146000e-01</td>\n",
       "    </tr>\n",
       "    <tr>\n",
       "      <th>50%</th>\n",
       "      <td>5.737148e-02</td>\n",
       "      <td>4.425864e-01</td>\n",
       "      <td>-1.202417e-01</td>\n",
       "      <td>-5.154533e-02</td>\n",
       "      <td>-7.951632e-01</td>\n",
       "      <td>6.332373e-02</td>\n",
       "    </tr>\n",
       "    <tr>\n",
       "      <th>75%</th>\n",
       "      <td>9.516316e-01</td>\n",
       "      <td>9.271216e-01</td>\n",
       "      <td>-1.202417e-01</td>\n",
       "      <td>7.255204e-01</td>\n",
       "      <td>8.731117e-01</td>\n",
       "      <td>6.440545e-01</td>\n",
       "    </tr>\n",
       "    <tr>\n",
       "      <th>max</th>\n",
       "      <td>1.282839e+00</td>\n",
       "      <td>1.217843e+00</td>\n",
       "      <td>1.164775e+01</td>\n",
       "      <td>4.554909e+00</td>\n",
       "      <td>3.936963e+00</td>\n",
       "      <td>4.110760e+00</td>\n",
       "    </tr>\n",
       "  </tbody>\n",
       "</table>\n",
       "</div>"
      ]
     },
     "execution_count": 16,
     "metadata": {},
     "output_type": "execute_result"
    }
   ],
   "execution_count": 16
  },
  {
   "cell_type": "code",
   "id": "60318dac-cf2c-4725-9f0d-2760bb6a4c8d",
   "metadata": {
    "ExecuteTime": {
     "end_time": "2025-09-29T10:48:09.330603Z",
     "start_time": "2025-09-29T10:48:09.208364Z"
    }
   },
   "source": [
    "df_num = df[[\"YearBuilt\", \"YearRemodAdd\", \"1stFlrSF\", \"2ndFlrSF\", \"LowQualFinSF\", \"GrLivArea\", \"SalePrice\"]]\n",
    "corr_matrix = df_num.corr()\n",
    "plt.figure(figsize=(6, 6))\n",
    "sns.heatmap(corr_matrix, annot=True, fmt=\".2f\", cmap='coolwarm', linewidths=0.5, cbar_kws={\"shrink\": .8}, square=True)\n",
    "plt.show()"
   ],
   "outputs": [
    {
     "data": {
      "text/plain": [
       "<Figure size 600x600 with 2 Axes>"
      ],
      "image/png": "[encoded data removed]"
     },
     "metadata": {},
     "output_type": "display_data"
    }
   ],
   "execution_count": 17
  },
  {
   "cell_type": "markdown",
   "id": "5200b657-f7c0-4ac1-b559-da411f3d1ac2",
   "metadata": {},
   "source": [
    "### Transformation of categorical features"
   ]
  },
  {
   "cell_type": "markdown",
   "id": "58500369-39b4-455a-b876-efb5ad4ce005",
   "metadata": {},
   "source": [
    "#### MSSubClass"
   ]
  }
 ],
 "metadata": {
  "kernelspec": {
   "display_name": "Python (kaggle_house_pricing)",
   "language": "python",
   "name": "kaggle_house_pricing"
  },
  "language_info": {
   "codemirror_mode": {
    "name": "ipython",
    "version": 3
   },
   "file_extension": ".py",
   "mimetype": "text/x-python",
   "name": "python",
   "nbconvert_exporter": "python",
   "pygments_lexer": "ipython3",
   "version": "3.13.7"
  }
 },
 "nbformat": 4,
 "nbformat_minor": 5
}
