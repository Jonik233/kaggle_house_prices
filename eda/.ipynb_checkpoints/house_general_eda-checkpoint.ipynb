{
 "cells": [
  {
   "cell_type": "code",
   "execution_count": 1,
   "id": "d0306034-036d-44d7-a6c3-256b18eaddb9",
   "metadata": {},
   "outputs": [],
   "source": [
    "import numpy as np\n",
    "import pandas as pd\n",
    "import seaborn as sns\n",
    "import matplotlib.pyplot as plt\n",
    "import sklearn.preprocessing as prepoc\n",
    "from sklearn.preprocessing import OneHotEncoder, StandardScaler\n",
    "%matplotlib inline"
   ]
  },
  {
   "cell_type": "markdown",
   "id": "53c3d501-52d3-458f-9f59-4f346bbf0aa4",
   "metadata": {},
   "source": [
    "### Loading data"
   ]
  },
  {
   "cell_type": "code",
   "execution_count": 2,
   "id": "1ec8b03a-85f9-46f6-8147-0f56a7fdf72d",
   "metadata": {},
   "outputs": [],
   "source": [
    "data_dir = \"../data/train.csv\"\n",
    "df = pd.read_csv(data_dir)"
   ]
  },
  {
   "cell_type": "markdown",
   "id": "080c9256-cbae-4b74-8ba4-96ed246be13e",
   "metadata": {},
   "source": [
    "### General Features that describe the house\n",
    "\n",
    "- BldgType: Type of dwelling\n",
    "- MSSubClass: Identifies the type of dwelling involved in the sale.\n",
    "- HouseStyle: Style of dwelling\n",
    "- Functional: Home functionality (Assume typical unless deductions are warranted)\n",
    "- OverallQual: Rates the overall material and finish of the house\n",
    "- OverallCond: Rates the overall condition of the house\n",
    "- YearBuilt: Original construction date\n",
    "- YearRemodAdd: Remodel date (same as construction date if no remodeling or additions)\n",
    "- 1stFlrSF: First Floor square feet\n",
    "- 2ndFlrSF: Second floor square feet\n",
    "- LowQualFinSF: Low quality finished square feet (all floors)\n",
    "- GrLivArea: Above grade (ground) living area square feet\n",
    "- MiscFeature: Miscellaneous feature not covered in other categories"
   ]
  },
  {
   "cell_type": "markdown",
   "id": "b619a484-8e4f-4dfd-8101-b10749668cb1",
   "metadata": {
    "jp-MarkdownHeadingCollapsed": true
   },
   "source": [
    "### Exploring the column values of MSSubClass"
   ]
  },
  {
   "cell_type": "code",
   "execution_count": 3,
   "id": "4a18684d-b6d8-4abe-98ba-ceb6fb8b33ea",
   "metadata": {},
   "outputs": [
    {
     "data": {
      "text/plain": [
       "array([ 60,  20,  70,  50, 190,  45,  90, 120,  30,  85,  80, 160,  75,\n",
       "       180,  40])"
      ]
     },
     "execution_count": 3,
     "metadata": {},
     "output_type": "execute_result"
    }
   ],
   "source": [
    "df.MSSubClass.unique()"
   ]
  },
  {
   "cell_type": "code",
   "execution_count": 4,
   "id": "7f0c5fca-ef8a-4451-ac67-3fdcb7a670fa",
   "metadata": {},
   "outputs": [
    {
     "data": {
      "text/plain": [
       "MSSubClass\n",
       "20     536\n",
       "60     299\n",
       "50     144\n",
       "120     87\n",
       "30      69\n",
       "160     63\n",
       "70      60\n",
       "80      58\n",
       "90      52\n",
       "190     30\n",
       "85      20\n",
       "75      16\n",
       "45      12\n",
       "180     10\n",
       "40       4\n",
       "Name: count, dtype: int64"
      ]
     },
     "execution_count": 4,
     "metadata": {},
     "output_type": "execute_result"
    }
   ],
   "source": [
    "df.MSSubClass.value_counts()"
   ]
  },
  {
   "cell_type": "markdown",
   "id": "a8112a24-6112-4fd7-8653-e4393e3866b5",
   "metadata": {},
   "source": [
    "Over 36% of houses are of type: 20\t1-STORY 1946 & NEWER ALL STYLES"
   ]
  },
  {
   "cell_type": "markdown",
   "id": "1b519607-c8aa-4066-8b80-f88d3b97e30d",
   "metadata": {},
   "source": [
    "#### Checking how prices differentiate depending on the type of dwelling involved in the sale"
   ]
  },
  {
   "cell_type": "code",
   "execution_count": 5,
   "id": "015d7449-1b13-412b-bcb6-e9d0c687ef54",
   "metadata": {},
   "outputs": [],
   "source": [
    "mss_cls_df = pd.concat([df[[\"MSSubClass\"]], df[[\"SalePrice\"]]], axis=1)"
   ]
  },
  {
   "cell_type": "code",
   "execution_count": 6,
   "id": "66079dbe-118e-4a00-95aa-e7043c371f6c",
   "metadata": {},
   "outputs": [
    {
     "data": {
      "text/html": [
       "<div>\n",
       "<style scoped>\n",
       "    .dataframe tbody tr th:only-of-type {\n",
       "        vertical-align: middle;\n",
       "    }\n",
       "\n",
       "    .dataframe tbody tr th {\n",
       "        vertical-align: top;\n",
       "    }\n",
       "\n",
       "    .dataframe thead th {\n",
       "        text-align: right;\n",
       "    }\n",
       "</style>\n",
       "<table border=\"1\" class=\"dataframe\">\n",
       "  <thead>\n",
       "    <tr style=\"text-align: right;\">\n",
       "      <th></th>\n",
       "      <th>MSSubClass</th>\n",
       "      <th>AvgSalePrice</th>\n",
       "    </tr>\n",
       "  </thead>\n",
       "  <tbody>\n",
       "    <tr>\n",
       "      <th>1</th>\n",
       "      <td>30</td>\n",
       "      <td>95830.0</td>\n",
       "    </tr>\n",
       "    <tr>\n",
       "      <th>13</th>\n",
       "      <td>180</td>\n",
       "      <td>102300.0</td>\n",
       "    </tr>\n",
       "    <tr>\n",
       "      <th>3</th>\n",
       "      <td>45</td>\n",
       "      <td>108592.0</td>\n",
       "    </tr>\n",
       "    <tr>\n",
       "      <th>14</th>\n",
       "      <td>190</td>\n",
       "      <td>129613.0</td>\n",
       "    </tr>\n",
       "    <tr>\n",
       "      <th>10</th>\n",
       "      <td>90</td>\n",
       "      <td>133541.0</td>\n",
       "    </tr>\n",
       "    <tr>\n",
       "      <th>12</th>\n",
       "      <td>160</td>\n",
       "      <td>138647.0</td>\n",
       "    </tr>\n",
       "    <tr>\n",
       "      <th>4</th>\n",
       "      <td>50</td>\n",
       "      <td>143303.0</td>\n",
       "    </tr>\n",
       "    <tr>\n",
       "      <th>9</th>\n",
       "      <td>85</td>\n",
       "      <td>147810.0</td>\n",
       "    </tr>\n",
       "    <tr>\n",
       "      <th>2</th>\n",
       "      <td>40</td>\n",
       "      <td>156125.0</td>\n",
       "    </tr>\n",
       "    <tr>\n",
       "      <th>6</th>\n",
       "      <td>70</td>\n",
       "      <td>166772.0</td>\n",
       "    </tr>\n",
       "    <tr>\n",
       "      <th>8</th>\n",
       "      <td>80</td>\n",
       "      <td>169737.0</td>\n",
       "    </tr>\n",
       "    <tr>\n",
       "      <th>0</th>\n",
       "      <td>20</td>\n",
       "      <td>185225.0</td>\n",
       "    </tr>\n",
       "    <tr>\n",
       "      <th>7</th>\n",
       "      <td>75</td>\n",
       "      <td>192438.0</td>\n",
       "    </tr>\n",
       "    <tr>\n",
       "      <th>11</th>\n",
       "      <td>120</td>\n",
       "      <td>200779.0</td>\n",
       "    </tr>\n",
       "    <tr>\n",
       "      <th>5</th>\n",
       "      <td>60</td>\n",
       "      <td>239949.0</td>\n",
       "    </tr>\n",
       "  </tbody>\n",
       "</table>\n",
       "</div>"
      ],
      "text/plain": [
       "    MSSubClass  AvgSalePrice\n",
       "1           30       95830.0\n",
       "13         180      102300.0\n",
       "3           45      108592.0\n",
       "14         190      129613.0\n",
       "10          90      133541.0\n",
       "12         160      138647.0\n",
       "4           50      143303.0\n",
       "9           85      147810.0\n",
       "2           40      156125.0\n",
       "6           70      166772.0\n",
       "8           80      169737.0\n",
       "0           20      185225.0\n",
       "7           75      192438.0\n",
       "11         120      200779.0\n",
       "5           60      239949.0"
      ]
     },
     "execution_count": 6,
     "metadata": {},
     "output_type": "execute_result"
    }
   ],
   "source": [
    "avg_price_per_mss_cls = mss_cls_df.groupby(\"MSSubClass\")[\"SalePrice\"].mean().round().reset_index()\n",
    "avg_price_per_mss_cls = avg_price_per_mss_cls.sort_values(\"SalePrice\")\n",
    "avg_price_per_mss_cls = avg_price_per_mss_cls.rename(columns={\"SalePrice\": \"AvgSalePrice\"})\n",
    "avg_price_per_mss_cls"
   ]
  },
  {
   "cell_type": "markdown",
   "id": "d189fb27-b75c-43e4-b126-8ff76d2fbeb7",
   "metadata": {
    "jp-MarkdownHeadingCollapsed": true
   },
   "source": [
    "### Exploring the column values of BldgType"
   ]
  },
  {
   "cell_type": "code",
   "execution_count": 7,
   "id": "1c4a81a3-ac39-424e-ad4c-c5e6bcc1e9f8",
   "metadata": {},
   "outputs": [
    {
     "data": {
      "text/plain": [
       "array(['1Fam', '2fmCon', 'Duplex', 'TwnhsE', 'Twnhs'], dtype=object)"
      ]
     },
     "execution_count": 7,
     "metadata": {},
     "output_type": "execute_result"
    }
   ],
   "source": [
    "df.BldgType.unique()"
   ]
  },
  {
   "cell_type": "code",
   "execution_count": 8,
   "id": "2e33f316-e2a6-42dc-a393-569ed8587ae9",
   "metadata": {},
   "outputs": [
    {
     "data": {
      "text/plain": [
       "BldgType\n",
       "1Fam      1220\n",
       "TwnhsE     114\n",
       "Duplex      52\n",
       "Twnhs       43\n",
       "2fmCon      31\n",
       "Name: count, dtype: int64"
      ]
     },
     "execution_count": 8,
     "metadata": {},
     "output_type": "execute_result"
    }
   ],
   "source": [
    "df.BldgType.value_counts()"
   ]
  },
  {
   "cell_type": "markdown",
   "id": "988f11c9-7ce2-4fd9-a2ec-fb5f828fd3cf",
   "metadata": {},
   "source": [
    "Over 83% of houses have Single-family Detached Type of dwelling"
   ]
  },
  {
   "cell_type": "markdown",
   "id": "bd889771-8ad5-4b63-9099-1c434beee79f",
   "metadata": {},
   "source": [
    "#### Checking how prices differentiate depending on Type of dwelling"
   ]
  },
  {
   "cell_type": "code",
   "execution_count": 9,
   "id": "407b2d4a-c93f-40ff-b624-1f28973c605c",
   "metadata": {},
   "outputs": [],
   "source": [
    "bld_type_df = pd.concat([df[[\"BldgType\"]], df[[\"SalePrice\"]]], axis=1)"
   ]
  },
  {
   "cell_type": "code",
   "execution_count": 10,
   "id": "571fe7ff-f5bb-44e2-8f10-c902e50f299c",
   "metadata": {},
   "outputs": [
    {
     "data": {
      "text/html": [
       "<div>\n",
       "<style scoped>\n",
       "    .dataframe tbody tr th:only-of-type {\n",
       "        vertical-align: middle;\n",
       "    }\n",
       "\n",
       "    .dataframe tbody tr th {\n",
       "        vertical-align: top;\n",
       "    }\n",
       "\n",
       "    .dataframe thead th {\n",
       "        text-align: right;\n",
       "    }\n",
       "</style>\n",
       "<table border=\"1\" class=\"dataframe\">\n",
       "  <thead>\n",
       "    <tr style=\"text-align: right;\">\n",
       "      <th></th>\n",
       "      <th>BldgType</th>\n",
       "      <th>AvgSalePrice</th>\n",
       "    </tr>\n",
       "  </thead>\n",
       "  <tbody>\n",
       "    <tr>\n",
       "      <th>1</th>\n",
       "      <td>2fmCon</td>\n",
       "      <td>128432.0</td>\n",
       "    </tr>\n",
       "    <tr>\n",
       "      <th>2</th>\n",
       "      <td>Duplex</td>\n",
       "      <td>133541.0</td>\n",
       "    </tr>\n",
       "    <tr>\n",
       "      <th>3</th>\n",
       "      <td>Twnhs</td>\n",
       "      <td>135912.0</td>\n",
       "    </tr>\n",
       "    <tr>\n",
       "      <th>4</th>\n",
       "      <td>TwnhsE</td>\n",
       "      <td>181959.0</td>\n",
       "    </tr>\n",
       "    <tr>\n",
       "      <th>0</th>\n",
       "      <td>1Fam</td>\n",
       "      <td>185764.0</td>\n",
       "    </tr>\n",
       "  </tbody>\n",
       "</table>\n",
       "</div>"
      ],
      "text/plain": [
       "  BldgType  AvgSalePrice\n",
       "1   2fmCon      128432.0\n",
       "2   Duplex      133541.0\n",
       "3    Twnhs      135912.0\n",
       "4   TwnhsE      181959.0\n",
       "0     1Fam      185764.0"
      ]
     },
     "execution_count": 10,
     "metadata": {},
     "output_type": "execute_result"
    }
   ],
   "source": [
    "avg_price_per_bld_type = bld_type_df.groupby(\"BldgType\")[\"SalePrice\"].mean().round().reset_index()\n",
    "avg_price_per_bld_type = avg_price_per_bld_type.sort_values(\"SalePrice\")\n",
    "avg_price_per_bld_type = avg_price_per_bld_type.rename(columns={\"SalePrice\": \"AvgSalePrice\"})\n",
    "avg_price_per_bld_type"
   ]
  },
  {
   "cell_type": "markdown",
   "id": "54cc98ef-c573-481f-9212-012dfdddcb51",
   "metadata": {
    "jp-MarkdownHeadingCollapsed": true
   },
   "source": [
    "### Exploring the column values of HouseStyle"
   ]
  },
  {
   "cell_type": "code",
   "execution_count": 11,
   "id": "aa1c5a26-fffa-4055-a957-8ce404cd2f4c",
   "metadata": {},
   "outputs": [
    {
     "data": {
      "text/plain": [
       "array(['2Story', '1Story', '1.5Fin', '1.5Unf', 'SFoyer', 'SLvl', '2.5Unf',\n",
       "       '2.5Fin'], dtype=object)"
      ]
     },
     "execution_count": 11,
     "metadata": {},
     "output_type": "execute_result"
    }
   ],
   "source": [
    "df.HouseStyle.unique()"
   ]
  },
  {
   "cell_type": "code",
   "execution_count": 12,
   "id": "246d9486-c26e-4380-8977-446665223139",
   "metadata": {},
   "outputs": [
    {
     "data": {
      "text/plain": [
       "HouseStyle\n",
       "1Story    726\n",
       "2Story    445\n",
       "1.5Fin    154\n",
       "SLvl       65\n",
       "SFoyer     37\n",
       "1.5Unf     14\n",
       "2.5Unf     11\n",
       "2.5Fin      8\n",
       "Name: count, dtype: int64"
      ]
     },
     "execution_count": 12,
     "metadata": {},
     "output_type": "execute_result"
    }
   ],
   "source": [
    "df.HouseStyle.value_counts()"
   ]
  },
  {
   "cell_type": "markdown",
   "id": "6c948741-7d35-4939-960e-57279234a2e8",
   "metadata": {},
   "source": [
    "Over 49% of houses are One story buildings"
   ]
  },
  {
   "cell_type": "markdown",
   "id": "123b6e25-2ca6-4236-af67-993c80fe7cc1",
   "metadata": {},
   "source": [
    "#### Checking how prices differentiate depending on Style of dwelling"
   ]
  },
  {
   "cell_type": "code",
   "execution_count": 13,
   "id": "ff3852c0-c30b-4e49-95a6-5847fde277a2",
   "metadata": {},
   "outputs": [],
   "source": [
    "house_style_df = pd.concat([df[[\"HouseStyle\"]], df[[\"SalePrice\"]]], axis=1)"
   ]
  },
  {
   "cell_type": "code",
   "execution_count": 14,
   "id": "13d98262-f86b-41fd-b056-184d8d087999",
   "metadata": {},
   "outputs": [
    {
     "data": {
      "text/html": [
       "<div>\n",
       "<style scoped>\n",
       "    .dataframe tbody tr th:only-of-type {\n",
       "        vertical-align: middle;\n",
       "    }\n",
       "\n",
       "    .dataframe tbody tr th {\n",
       "        vertical-align: top;\n",
       "    }\n",
       "\n",
       "    .dataframe thead th {\n",
       "        text-align: right;\n",
       "    }\n",
       "</style>\n",
       "<table border=\"1\" class=\"dataframe\">\n",
       "  <thead>\n",
       "    <tr style=\"text-align: right;\">\n",
       "      <th></th>\n",
       "      <th>HouseStyle</th>\n",
       "      <th>AvgSalePrice</th>\n",
       "    </tr>\n",
       "  </thead>\n",
       "  <tbody>\n",
       "    <tr>\n",
       "      <th>1</th>\n",
       "      <td>1.5Unf</td>\n",
       "      <td>110150.0</td>\n",
       "    </tr>\n",
       "    <tr>\n",
       "      <th>6</th>\n",
       "      <td>SFoyer</td>\n",
       "      <td>135074.0</td>\n",
       "    </tr>\n",
       "    <tr>\n",
       "      <th>0</th>\n",
       "      <td>1.5Fin</td>\n",
       "      <td>143117.0</td>\n",
       "    </tr>\n",
       "    <tr>\n",
       "      <th>4</th>\n",
       "      <td>2.5Unf</td>\n",
       "      <td>157355.0</td>\n",
       "    </tr>\n",
       "    <tr>\n",
       "      <th>7</th>\n",
       "      <td>SLvl</td>\n",
       "      <td>166703.0</td>\n",
       "    </tr>\n",
       "    <tr>\n",
       "      <th>2</th>\n",
       "      <td>1Story</td>\n",
       "      <td>175985.0</td>\n",
       "    </tr>\n",
       "    <tr>\n",
       "      <th>5</th>\n",
       "      <td>2Story</td>\n",
       "      <td>210052.0</td>\n",
       "    </tr>\n",
       "    <tr>\n",
       "      <th>3</th>\n",
       "      <td>2.5Fin</td>\n",
       "      <td>220000.0</td>\n",
       "    </tr>\n",
       "  </tbody>\n",
       "</table>\n",
       "</div>"
      ],
      "text/plain": [
       "  HouseStyle  AvgSalePrice\n",
       "1     1.5Unf      110150.0\n",
       "6     SFoyer      135074.0\n",
       "0     1.5Fin      143117.0\n",
       "4     2.5Unf      157355.0\n",
       "7       SLvl      166703.0\n",
       "2     1Story      175985.0\n",
       "5     2Story      210052.0\n",
       "3     2.5Fin      220000.0"
      ]
     },
     "execution_count": 14,
     "metadata": {},
     "output_type": "execute_result"
    }
   ],
   "source": [
    "avg_price_per_house_style = house_style_df.groupby(\"HouseStyle\")[\"SalePrice\"].mean().round().reset_index()\n",
    "avg_price_per_house_style = avg_price_per_house_style.sort_values(\"SalePrice\")\n",
    "avg_price_per_house_style = avg_price_per_house_style.rename(columns={\"SalePrice\": \"AvgSalePrice\"})\n",
    "avg_price_per_house_style"
   ]
  },
  {
   "cell_type": "markdown",
   "id": "cb5b80b9-a5f2-4b11-9fe1-77949a0b1742",
   "metadata": {
    "jp-MarkdownHeadingCollapsed": true
   },
   "source": [
    "### Exploring the column values of Functional"
   ]
  },
  {
   "cell_type": "code",
   "execution_count": 15,
   "id": "dc46282e-40ab-47eb-89db-f000804611c4",
   "metadata": {},
   "outputs": [
    {
     "data": {
      "text/plain": [
       "array(['Typ', 'Min1', 'Maj1', 'Min2', 'Mod', 'Maj2', 'Sev'], dtype=object)"
      ]
     },
     "execution_count": 15,
     "metadata": {},
     "output_type": "execute_result"
    }
   ],
   "source": [
    "df.Functional.unique()"
   ]
  },
  {
   "cell_type": "code",
   "execution_count": 16,
   "id": "76d924c3-2f47-4568-ac68-6be983781743",
   "metadata": {},
   "outputs": [
    {
     "data": {
      "text/plain": [
       "Functional\n",
       "Typ     1360\n",
       "Min2      34\n",
       "Min1      31\n",
       "Mod       15\n",
       "Maj1      14\n",
       "Maj2       5\n",
       "Sev        1\n",
       "Name: count, dtype: int64"
      ]
     },
     "execution_count": 16,
     "metadata": {},
     "output_type": "execute_result"
    }
   ],
   "source": [
    "df.Functional.value_counts()"
   ]
  },
  {
   "cell_type": "markdown",
   "id": "6f284f34-591d-4425-ba86-c1d66d729a65",
   "metadata": {},
   "source": [
    "Over 93% of houses have a Typical Functionality"
   ]
  },
  {
   "cell_type": "markdown",
   "id": "fb584036-07fc-4f1b-aaf8-90603e39a61f",
   "metadata": {},
   "source": [
    "#### Checking how prices differentiate depending on Home functionality"
   ]
  },
  {
   "cell_type": "code",
   "execution_count": 17,
   "id": "78432224-f9f7-426a-8414-44499efd5a5b",
   "metadata": {},
   "outputs": [],
   "source": [
    "funcitonality_df = pd.concat([df[[\"Functional\"]], df[[\"SalePrice\"]]], axis=1)"
   ]
  },
  {
   "cell_type": "code",
   "execution_count": 18,
   "id": "d1a7c0d1-ebf9-4547-9824-4a3b39fc64aa",
   "metadata": {},
   "outputs": [
    {
     "data": {
      "text/html": [
       "<div>\n",
       "<style scoped>\n",
       "    .dataframe tbody tr th:only-of-type {\n",
       "        vertical-align: middle;\n",
       "    }\n",
       "\n",
       "    .dataframe tbody tr th {\n",
       "        vertical-align: top;\n",
       "    }\n",
       "\n",
       "    .dataframe thead th {\n",
       "        text-align: right;\n",
       "    }\n",
       "</style>\n",
       "<table border=\"1\" class=\"dataframe\">\n",
       "  <thead>\n",
       "    <tr style=\"text-align: right;\">\n",
       "      <th></th>\n",
       "      <th>Functional</th>\n",
       "      <th>AvgSalePrice</th>\n",
       "    </tr>\n",
       "  </thead>\n",
       "  <tbody>\n",
       "    <tr>\n",
       "      <th>1</th>\n",
       "      <td>Maj2</td>\n",
       "      <td>85800.0</td>\n",
       "    </tr>\n",
       "    <tr>\n",
       "      <th>5</th>\n",
       "      <td>Sev</td>\n",
       "      <td>129000.0</td>\n",
       "    </tr>\n",
       "    <tr>\n",
       "      <th>3</th>\n",
       "      <td>Min2</td>\n",
       "      <td>144241.0</td>\n",
       "    </tr>\n",
       "    <tr>\n",
       "      <th>2</th>\n",
       "      <td>Min1</td>\n",
       "      <td>146385.0</td>\n",
       "    </tr>\n",
       "    <tr>\n",
       "      <th>0</th>\n",
       "      <td>Maj1</td>\n",
       "      <td>153948.0</td>\n",
       "    </tr>\n",
       "    <tr>\n",
       "      <th>4</th>\n",
       "      <td>Mod</td>\n",
       "      <td>168393.0</td>\n",
       "    </tr>\n",
       "    <tr>\n",
       "      <th>6</th>\n",
       "      <td>Typ</td>\n",
       "      <td>183429.0</td>\n",
       "    </tr>\n",
       "  </tbody>\n",
       "</table>\n",
       "</div>"
      ],
      "text/plain": [
       "  Functional  AvgSalePrice\n",
       "1       Maj2       85800.0\n",
       "5        Sev      129000.0\n",
       "3       Min2      144241.0\n",
       "2       Min1      146385.0\n",
       "0       Maj1      153948.0\n",
       "4        Mod      168393.0\n",
       "6        Typ      183429.0"
      ]
     },
     "execution_count": 18,
     "metadata": {},
     "output_type": "execute_result"
    }
   ],
   "source": [
    "avg_price_per_func = funcitonality_df.groupby(\"Functional\")[\"SalePrice\"].mean().round().reset_index()\n",
    "avg_price_per_func = avg_price_per_func.sort_values(\"SalePrice\")\n",
    "avg_price_per_func = avg_price_per_func.rename(columns={\"SalePrice\": \"AvgSalePrice\"})\n",
    "avg_price_per_func"
   ]
  },
  {
   "cell_type": "markdown",
   "id": "b6087dfe-12b7-4285-acd0-0019b69f2c44",
   "metadata": {
    "jp-MarkdownHeadingCollapsed": true
   },
   "source": [
    "### Exploring the column values of OverallQual"
   ]
  },
  {
   "cell_type": "code",
   "execution_count": 19,
   "id": "b5f7e047-e1fd-4a94-946b-5bc9916e15af",
   "metadata": {},
   "outputs": [
    {
     "data": {
      "text/plain": [
       "array([ 7,  6,  8,  5,  9,  4, 10,  3,  1,  2])"
      ]
     },
     "execution_count": 19,
     "metadata": {},
     "output_type": "execute_result"
    }
   ],
   "source": [
    "df.OverallQual.unique()"
   ]
  },
  {
   "cell_type": "code",
   "execution_count": 20,
   "id": "e05858c7-dca5-46ef-8800-4f497e034d7d",
   "metadata": {},
   "outputs": [
    {
     "data": {
      "text/plain": [
       "OverallQual\n",
       "5     397\n",
       "6     374\n",
       "7     319\n",
       "8     168\n",
       "4     116\n",
       "9      43\n",
       "3      20\n",
       "10     18\n",
       "2       3\n",
       "1       2\n",
       "Name: count, dtype: int64"
      ]
     },
     "execution_count": 20,
     "metadata": {},
     "output_type": "execute_result"
    }
   ],
   "source": [
    "df.OverallQual.value_counts()"
   ]
  },
  {
   "cell_type": "markdown",
   "id": "50c59faa-a61e-4eac-a40b-f4b4cb71af00",
   "metadata": {},
   "source": [
    "#### Checking how prices differentiate depending on Rates of the overall material and finish of the house"
   ]
  },
  {
   "cell_type": "code",
   "execution_count": 21,
   "id": "ecd544d1-9f01-4bad-be8b-6fe057feb448",
   "metadata": {},
   "outputs": [],
   "source": [
    "overall_qual_df = pd.concat([df[[\"OverallQual\"]], df[[\"SalePrice\"]]], axis=1)"
   ]
  },
  {
   "cell_type": "code",
   "execution_count": 22,
   "id": "ce60e49d-c973-4c3f-8b31-3ac3095ba6f2",
   "metadata": {},
   "outputs": [
    {
     "data": {
      "text/html": [
       "<div>\n",
       "<style scoped>\n",
       "    .dataframe tbody tr th:only-of-type {\n",
       "        vertical-align: middle;\n",
       "    }\n",
       "\n",
       "    .dataframe tbody tr th {\n",
       "        vertical-align: top;\n",
       "    }\n",
       "\n",
       "    .dataframe thead th {\n",
       "        text-align: right;\n",
       "    }\n",
       "</style>\n",
       "<table border=\"1\" class=\"dataframe\">\n",
       "  <thead>\n",
       "    <tr style=\"text-align: right;\">\n",
       "      <th></th>\n",
       "      <th>OverallQual</th>\n",
       "      <th>AvgSalePrice</th>\n",
       "    </tr>\n",
       "  </thead>\n",
       "  <tbody>\n",
       "    <tr>\n",
       "      <th>0</th>\n",
       "      <td>1</td>\n",
       "      <td>50150.0</td>\n",
       "    </tr>\n",
       "    <tr>\n",
       "      <th>1</th>\n",
       "      <td>2</td>\n",
       "      <td>51770.0</td>\n",
       "    </tr>\n",
       "    <tr>\n",
       "      <th>2</th>\n",
       "      <td>3</td>\n",
       "      <td>87474.0</td>\n",
       "    </tr>\n",
       "    <tr>\n",
       "      <th>3</th>\n",
       "      <td>4</td>\n",
       "      <td>108421.0</td>\n",
       "    </tr>\n",
       "    <tr>\n",
       "      <th>4</th>\n",
       "      <td>5</td>\n",
       "      <td>133523.0</td>\n",
       "    </tr>\n",
       "    <tr>\n",
       "      <th>5</th>\n",
       "      <td>6</td>\n",
       "      <td>161603.0</td>\n",
       "    </tr>\n",
       "    <tr>\n",
       "      <th>6</th>\n",
       "      <td>7</td>\n",
       "      <td>207716.0</td>\n",
       "    </tr>\n",
       "    <tr>\n",
       "      <th>7</th>\n",
       "      <td>8</td>\n",
       "      <td>274736.0</td>\n",
       "    </tr>\n",
       "    <tr>\n",
       "      <th>8</th>\n",
       "      <td>9</td>\n",
       "      <td>367513.0</td>\n",
       "    </tr>\n",
       "    <tr>\n",
       "      <th>9</th>\n",
       "      <td>10</td>\n",
       "      <td>438588.0</td>\n",
       "    </tr>\n",
       "  </tbody>\n",
       "</table>\n",
       "</div>"
      ],
      "text/plain": [
       "   OverallQual  AvgSalePrice\n",
       "0            1       50150.0\n",
       "1            2       51770.0\n",
       "2            3       87474.0\n",
       "3            4      108421.0\n",
       "4            5      133523.0\n",
       "5            6      161603.0\n",
       "6            7      207716.0\n",
       "7            8      274736.0\n",
       "8            9      367513.0\n",
       "9           10      438588.0"
      ]
     },
     "execution_count": 22,
     "metadata": {},
     "output_type": "execute_result"
    }
   ],
   "source": [
    "avg_price_per_overall_qual = overall_qual_df.groupby(\"OverallQual\")[\"SalePrice\"].mean().round().reset_index()\n",
    "avg_price_per_overall_qual = avg_price_per_overall_qual.sort_values(\"SalePrice\")\n",
    "avg_price_per_overall_qual = avg_price_per_overall_qual.rename(columns={\"SalePrice\": \"AvgSalePrice\"})\n",
    "avg_price_per_overall_qual"
   ]
  },
  {
   "cell_type": "markdown",
   "id": "a3522538-79ca-4a7d-b82a-5c705dde8af3",
   "metadata": {
    "jp-MarkdownHeadingCollapsed": true
   },
   "source": [
    "### Exploring the column values of OverallCond"
   ]
  },
  {
   "cell_type": "code",
   "execution_count": 23,
   "id": "8bdee093-d4d3-4497-acdc-ef226f6ede02",
   "metadata": {},
   "outputs": [
    {
     "data": {
      "text/plain": [
       "array([5, 8, 6, 7, 4, 2, 3, 9, 1])"
      ]
     },
     "execution_count": 23,
     "metadata": {},
     "output_type": "execute_result"
    }
   ],
   "source": [
    "df.OverallCond.unique()"
   ]
  },
  {
   "cell_type": "code",
   "execution_count": 24,
   "id": "f9a11faa-685e-48b0-b560-65b7617414dd",
   "metadata": {},
   "outputs": [
    {
     "data": {
      "text/plain": [
       "OverallCond\n",
       "5    821\n",
       "6    252\n",
       "7    205\n",
       "8     72\n",
       "4     57\n",
       "3     25\n",
       "9     22\n",
       "2      5\n",
       "1      1\n",
       "Name: count, dtype: int64"
      ]
     },
     "execution_count": 24,
     "metadata": {},
     "output_type": "execute_result"
    }
   ],
   "source": [
    "df.OverallCond.value_counts()"
   ]
  },
  {
   "cell_type": "markdown",
   "id": "a2f9c501-edd7-4402-91d0-9370d8f50caa",
   "metadata": {},
   "source": [
    "Over 56% of houses have Average Rates of the overall condition of the house"
   ]
  },
  {
   "cell_type": "markdown",
   "id": "86a83493-8019-45cd-bde9-4bbca637ecdb",
   "metadata": {},
   "source": [
    "#### Checking how prices differentiate depending on Rates of the overall condition of the house"
   ]
  },
  {
   "cell_type": "code",
   "execution_count": 25,
   "id": "cc3a99c4-fe2b-47e1-8938-b1f66b58a7e5",
   "metadata": {},
   "outputs": [],
   "source": [
    "overall_cond_df = pd.concat([df[[\"OverallCond\"]], df[[\"SalePrice\"]]], axis=1)"
   ]
  },
  {
   "cell_type": "code",
   "execution_count": 26,
   "id": "a59eac08-f006-47ae-bed1-f92e61a0cf5c",
   "metadata": {},
   "outputs": [
    {
     "data": {
      "text/html": [
       "<div>\n",
       "<style scoped>\n",
       "    .dataframe tbody tr th:only-of-type {\n",
       "        vertical-align: middle;\n",
       "    }\n",
       "\n",
       "    .dataframe tbody tr th {\n",
       "        vertical-align: top;\n",
       "    }\n",
       "\n",
       "    .dataframe thead th {\n",
       "        text-align: right;\n",
       "    }\n",
       "</style>\n",
       "<table border=\"1\" class=\"dataframe\">\n",
       "  <thead>\n",
       "    <tr style=\"text-align: right;\">\n",
       "      <th></th>\n",
       "      <th>OverallCond</th>\n",
       "      <th>AvgSalePrice</th>\n",
       "    </tr>\n",
       "  </thead>\n",
       "  <tbody>\n",
       "    <tr>\n",
       "      <th>0</th>\n",
       "      <td>1</td>\n",
       "      <td>61000.0</td>\n",
       "    </tr>\n",
       "    <tr>\n",
       "      <th>2</th>\n",
       "      <td>3</td>\n",
       "      <td>101929.0</td>\n",
       "    </tr>\n",
       "    <tr>\n",
       "      <th>3</th>\n",
       "      <td>4</td>\n",
       "      <td>120438.0</td>\n",
       "    </tr>\n",
       "    <tr>\n",
       "      <th>1</th>\n",
       "      <td>2</td>\n",
       "      <td>141986.0</td>\n",
       "    </tr>\n",
       "    <tr>\n",
       "      <th>5</th>\n",
       "      <td>6</td>\n",
       "      <td>153962.0</td>\n",
       "    </tr>\n",
       "    <tr>\n",
       "      <th>7</th>\n",
       "      <td>8</td>\n",
       "      <td>155652.0</td>\n",
       "    </tr>\n",
       "    <tr>\n",
       "      <th>6</th>\n",
       "      <td>7</td>\n",
       "      <td>158145.0</td>\n",
       "    </tr>\n",
       "    <tr>\n",
       "      <th>4</th>\n",
       "      <td>5</td>\n",
       "      <td>203147.0</td>\n",
       "    </tr>\n",
       "    <tr>\n",
       "      <th>8</th>\n",
       "      <td>9</td>\n",
       "      <td>216005.0</td>\n",
       "    </tr>\n",
       "  </tbody>\n",
       "</table>\n",
       "</div>"
      ],
      "text/plain": [
       "   OverallCond  AvgSalePrice\n",
       "0            1       61000.0\n",
       "2            3      101929.0\n",
       "3            4      120438.0\n",
       "1            2      141986.0\n",
       "5            6      153962.0\n",
       "7            8      155652.0\n",
       "6            7      158145.0\n",
       "4            5      203147.0\n",
       "8            9      216005.0"
      ]
     },
     "execution_count": 26,
     "metadata": {},
     "output_type": "execute_result"
    }
   ],
   "source": [
    "avg_price_per_overall_cond = overall_cond_df.groupby(\"OverallCond\")[\"SalePrice\"].mean().round().reset_index()\n",
    "avg_price_per_overall_cond = avg_price_per_overall_cond.sort_values(\"SalePrice\")\n",
    "avg_price_per_overall_cond = avg_price_per_overall_cond.rename(columns={\"SalePrice\": \"AvgSalePrice\"})\n",
    "avg_price_per_overall_cond"
   ]
  },
  {
   "cell_type": "markdown",
   "id": "e421ee60-a6f8-4c34-84fc-d693f5f8ad16",
   "metadata": {
    "jp-MarkdownHeadingCollapsed": true
   },
   "source": [
    "### Exploring the column values of YearBuilt"
   ]
  },
  {
   "cell_type": "code",
   "execution_count": 27,
   "id": "452685dd3f77f8b2",
   "metadata": {},
   "outputs": [
    {
     "data": {
      "text/plain": [
       "count    1460.000000\n",
       "mean     1971.267808\n",
       "std        30.202904\n",
       "min      1872.000000\n",
       "25%      1954.000000\n",
       "50%      1973.000000\n",
       "75%      2000.000000\n",
       "max      2010.000000\n",
       "Name: YearBuilt, dtype: float64"
      ]
     },
     "execution_count": 27,
     "metadata": {},
     "output_type": "execute_result"
    }
   ],
   "source": [
    "df.YearBuilt.describe()"
   ]
  },
  {
   "cell_type": "code",
   "execution_count": 28,
   "id": "811c6667bea6a4d5",
   "metadata": {},
   "outputs": [
    {
     "name": "stdout",
     "output_type": "stream",
     "text": [
      "Number of nans in YearBuilt: 0\n"
     ]
    }
   ],
   "source": [
    "n_nan = df.YearBuilt.isna().sum().item()\n",
    "print(f\"Number of nans in YearBuilt: {n_nan}\")"
   ]
  },
  {
   "cell_type": "code",
   "execution_count": 29,
   "id": "ba7abb50-2c25-49f1-81b8-f79f87c6ce06",
   "metadata": {},
   "outputs": [
    {
     "data": {
      "image/png": "[encoded data removed]",
      "text/plain": [
       "<Figure size 500x400 with 1 Axes>"
      ]
     },
     "metadata": {},
     "output_type": "display_data"
    }
   ],
   "source": [
    "df.YearBuilt.hist(bins=10, figsize=(5, 4))\n",
    "plt.title(\"Value counts of YearBuilt\")\n",
    "plt.show()"
   ]
  },
  {
   "cell_type": "markdown",
   "id": "30e180ea-718a-4511-b13e-727a7259bbb0",
   "metadata": {
    "jp-MarkdownHeadingCollapsed": true
   },
   "source": [
    "### Exploring the column values of YearRemodAdd"
   ]
  },
  {
   "cell_type": "code",
   "execution_count": 30,
   "id": "9a7d95f6-2361-4319-8a0b-b6d608372022",
   "metadata": {},
   "outputs": [
    {
     "data": {
      "text/plain": [
       "count    1460.000000\n",
       "mean     1984.865753\n",
       "std        20.645407\n",
       "min      1950.000000\n",
       "25%      1967.000000\n",
       "50%      1994.000000\n",
       "75%      2004.000000\n",
       "max      2010.000000\n",
       "Name: YearRemodAdd, dtype: float64"
      ]
     },
     "execution_count": 30,
     "metadata": {},
     "output_type": "execute_result"
    }
   ],
   "source": [
    "df.YearRemodAdd.describe()"
   ]
  },
  {
   "cell_type": "code",
   "execution_count": 31,
   "id": "0fd1e2b5-dbf7-49ab-82fa-1735cc95d4f1",
   "metadata": {},
   "outputs": [
    {
     "name": "stdout",
     "output_type": "stream",
     "text": [
      "Number of nans in YearRemodAdd: 0\n"
     ]
    }
   ],
   "source": [
    "n_nan = df.YearRemodAdd.isna().sum().item()\n",
    "print(f\"Number of nans in YearRemodAdd: {n_nan}\")"
   ]
  },
  {
   "cell_type": "code",
   "execution_count": 32,
   "id": "382434c4-d9d3-4875-b5b9-8c28159c0033",
   "metadata": {},
   "outputs": [
    {
     "data": {
      "image/png": "[encoded data removed]",
      "text/plain": [
       "<Figure size 500x400 with 1 Axes>"
      ]
     },
     "metadata": {},
     "output_type": "display_data"
    }
   ],
   "source": [
    "df.YearRemodAdd.hist(bins=10, figsize=(5, 4))\n",
    "plt.show()"
   ]
  },
  {
   "cell_type": "markdown",
   "id": "92c649ca-ee3c-4ac5-8194-52777693cd3c",
   "metadata": {},
   "source": [
    "### Exploring the column values of 1stFlrSF"
   ]
  },
  {
   "cell_type": "code",
   "execution_count": 33,
   "id": "b8fcdaad-fa14-46e8-944a-5c3ff7201d0c",
   "metadata": {},
   "outputs": [
    {
     "data": {
      "text/html": [
       "<div>\n",
       "<style scoped>\n",
       "    .dataframe tbody tr th:only-of-type {\n",
       "        vertical-align: middle;\n",
       "    }\n",
       "\n",
       "    .dataframe tbody tr th {\n",
       "        vertical-align: top;\n",
       "    }\n",
       "\n",
       "    .dataframe thead th {\n",
       "        text-align: right;\n",
       "    }\n",
       "</style>\n",
       "<table border=\"1\" class=\"dataframe\">\n",
       "  <thead>\n",
       "    <tr style=\"text-align: right;\">\n",
       "      <th></th>\n",
       "      <th>1stFlrSF</th>\n",
       "    </tr>\n",
       "  </thead>\n",
       "  <tbody>\n",
       "    <tr>\n",
       "      <th>count</th>\n",
       "      <td>1460.000000</td>\n",
       "    </tr>\n",
       "    <tr>\n",
       "      <th>mean</th>\n",
       "      <td>1162.626712</td>\n",
       "    </tr>\n",
       "    <tr>\n",
       "      <th>std</th>\n",
       "      <td>386.587738</td>\n",
       "    </tr>\n",
       "    <tr>\n",
       "      <th>min</th>\n",
       "      <td>334.000000</td>\n",
       "    </tr>\n",
       "    <tr>\n",
       "      <th>25%</th>\n",
       "      <td>882.000000</td>\n",
       "    </tr>\n",
       "    <tr>\n",
       "      <th>50%</th>\n",
       "      <td>1087.000000</td>\n",
       "    </tr>\n",
       "    <tr>\n",
       "      <th>75%</th>\n",
       "      <td>1391.250000</td>\n",
       "    </tr>\n",
       "    <tr>\n",
       "      <th>max</th>\n",
       "      <td>4692.000000</td>\n",
       "    </tr>\n",
       "  </tbody>\n",
       "</table>\n",
       "</div>"
      ],
      "text/plain": [
       "          1stFlrSF\n",
       "count  1460.000000\n",
       "mean   1162.626712\n",
       "std     386.587738\n",
       "min     334.000000\n",
       "25%     882.000000\n",
       "50%    1087.000000\n",
       "75%    1391.250000\n",
       "max    4692.000000"
      ]
     },
     "execution_count": 33,
     "metadata": {},
     "output_type": "execute_result"
    }
   ],
   "source": [
    "df[[\"1stFlrSF\"]].describe()"
   ]
  },
  {
   "cell_type": "code",
   "execution_count": 34,
   "id": "84bfc086-aef1-4bd1-a892-74703883c924",
   "metadata": {},
   "outputs": [
    {
     "name": "stdout",
     "output_type": "stream",
     "text": [
      "Number of nans in 1stFlrSF: 0\n"
     ]
    }
   ],
   "source": [
    "n_nan = df[[\"1stFlrSF\"]].isna().sum().item()\n",
    "print(f\"Number of nans in 1stFlrSF: {n_nan}\")"
   ]
  },
  {
   "cell_type": "code",
   "execution_count": 35,
   "id": "a1a74da1-8bee-416d-b8a8-9dbb5065d13d",
   "metadata": {},
   "outputs": [
    {
     "data": {
      "image/png": "[encoded data removed]",
      "text/plain": [
       "<Figure size 500x400 with 1 Axes>"
      ]
     },
     "metadata": {},
     "output_type": "display_data"
    }
   ],
   "source": [
    "df[[\"1stFlrSF\"]].hist(bins=10, figsize=(5, 4))\n",
    "plt.show()"
   ]
  },
  {
   "cell_type": "markdown",
   "id": "d4cd28eb-3070-4f1f-a09d-a6c4c63d7428",
   "metadata": {
    "jp-MarkdownHeadingCollapsed": true
   },
   "source": [
    "### Exploring the column values of 2ndFlrSF"
   ]
  },
  {
   "cell_type": "code",
   "execution_count": 36,
   "id": "ddba6216-f6d3-4809-80a8-c65cb024e916",
   "metadata": {},
   "outputs": [
    {
     "data": {
      "text/html": [
       "<div>\n",
       "<style scoped>\n",
       "    .dataframe tbody tr th:only-of-type {\n",
       "        vertical-align: middle;\n",
       "    }\n",
       "\n",
       "    .dataframe tbody tr th {\n",
       "        vertical-align: top;\n",
       "    }\n",
       "\n",
       "    .dataframe thead th {\n",
       "        text-align: right;\n",
       "    }\n",
       "</style>\n",
       "<table border=\"1\" class=\"dataframe\">\n",
       "  <thead>\n",
       "    <tr style=\"text-align: right;\">\n",
       "      <th></th>\n",
       "      <th>2ndFlrSF</th>\n",
       "    </tr>\n",
       "  </thead>\n",
       "  <tbody>\n",
       "    <tr>\n",
       "      <th>count</th>\n",
       "      <td>1460.000000</td>\n",
       "    </tr>\n",
       "    <tr>\n",
       "      <th>mean</th>\n",
       "      <td>346.992466</td>\n",
       "    </tr>\n",
       "    <tr>\n",
       "      <th>std</th>\n",
       "      <td>436.528436</td>\n",
       "    </tr>\n",
       "    <tr>\n",
       "      <th>min</th>\n",
       "      <td>0.000000</td>\n",
       "    </tr>\n",
       "    <tr>\n",
       "      <th>25%</th>\n",
       "      <td>0.000000</td>\n",
       "    </tr>\n",
       "    <tr>\n",
       "      <th>50%</th>\n",
       "      <td>0.000000</td>\n",
       "    </tr>\n",
       "    <tr>\n",
       "      <th>75%</th>\n",
       "      <td>728.000000</td>\n",
       "    </tr>\n",
       "    <tr>\n",
       "      <th>max</th>\n",
       "      <td>2065.000000</td>\n",
       "    </tr>\n",
       "  </tbody>\n",
       "</table>\n",
       "</div>"
      ],
      "text/plain": [
       "          2ndFlrSF\n",
       "count  1460.000000\n",
       "mean    346.992466\n",
       "std     436.528436\n",
       "min       0.000000\n",
       "25%       0.000000\n",
       "50%       0.000000\n",
       "75%     728.000000\n",
       "max    2065.000000"
      ]
     },
     "execution_count": 36,
     "metadata": {},
     "output_type": "execute_result"
    }
   ],
   "source": [
    "df[[\"2ndFlrSF\"]].describe()"
   ]
  },
  {
   "cell_type": "code",
   "execution_count": 37,
   "id": "675104d9-86f4-48a1-8cc2-968d0bd455d0",
   "metadata": {},
   "outputs": [
    {
     "name": "stdout",
     "output_type": "stream",
     "text": [
      "Number of nans in 2ndFlrSF: 0\n"
     ]
    }
   ],
   "source": [
    "n_nan = df[[\"2ndFlrSF\"]].isna().sum().item()\n",
    "print(f\"Number of nans in 2ndFlrSF: {n_nan}\")"
   ]
  },
  {
   "cell_type": "code",
   "execution_count": 38,
   "id": "4e05c8e0-4af9-49b1-b241-dcaf6afe686b",
   "metadata": {},
   "outputs": [
    {
     "data": {
      "image/png": "[encoded data removed]",
      "text/plain": [
       "<Figure size 500x400 with 1 Axes>"
      ]
     },
     "metadata": {},
     "output_type": "display_data"
    }
   ],
   "source": [
    "df[[\"2ndFlrSF\"]].hist(bins=10, figsize=(5, 4))\n",
    "plt.show()"
   ]
  },
  {
   "cell_type": "markdown",
   "id": "7d354047-e4fd-404f-a466-637e93348b36",
   "metadata": {
    "jp-MarkdownHeadingCollapsed": true
   },
   "source": [
    "### Exploring the column values of LowQualFinSF"
   ]
  },
  {
   "cell_type": "code",
   "execution_count": 39,
   "id": "ac724bca-f5b9-43a5-ac09-8569daefb500",
   "metadata": {},
   "outputs": [
    {
     "data": {
      "text/plain": [
       "count    1460.000000\n",
       "mean        5.844521\n",
       "std        48.623081\n",
       "min         0.000000\n",
       "25%         0.000000\n",
       "50%         0.000000\n",
       "75%         0.000000\n",
       "max       572.000000\n",
       "Name: LowQualFinSF, dtype: float64"
      ]
     },
     "execution_count": 39,
     "metadata": {},
     "output_type": "execute_result"
    }
   ],
   "source": [
    "df.LowQualFinSF.describe()"
   ]
  },
  {
   "cell_type": "code",
   "execution_count": 40,
   "id": "305b1406-de4b-4948-94d9-917c482bfffb",
   "metadata": {},
   "outputs": [
    {
     "name": "stdout",
     "output_type": "stream",
     "text": [
      "Number of nans in LowQualFinSF: 0\n"
     ]
    }
   ],
   "source": [
    "n_nan = df.LowQualFinSF.isna().sum().item()\n",
    "print(f\"Number of nans in LowQualFinSF: {n_nan}\")"
   ]
  },
  {
   "cell_type": "code",
   "execution_count": 41,
   "id": "afd586de-9dfa-4898-a56e-4a182e67ea67",
   "metadata": {},
   "outputs": [
    {
     "data": {
      "image/png": "[encoded data removed]",
      "text/plain": [
       "<Figure size 500x400 with 1 Axes>"
      ]
     },
     "metadata": {},
     "output_type": "display_data"
    }
   ],
   "source": [
    "df.LowQualFinSF.hist(bins=10, figsize=(5, 4))\n",
    "plt.show()"
   ]
  },
  {
   "cell_type": "markdown",
   "id": "22d7165a-5204-410c-ac44-639d961276e7",
   "metadata": {
    "jp-MarkdownHeadingCollapsed": true
   },
   "source": [
    "### Exploring the column values of GrLivArea"
   ]
  },
  {
   "cell_type": "code",
   "execution_count": 42,
   "id": "ffa16b6b-8e84-455c-a3eb-2efd45190e66",
   "metadata": {},
   "outputs": [
    {
     "data": {
      "text/plain": [
       "count    1460.000000\n",
       "mean     1515.463699\n",
       "std       525.480383\n",
       "min       334.000000\n",
       "25%      1129.500000\n",
       "50%      1464.000000\n",
       "75%      1776.750000\n",
       "max      5642.000000\n",
       "Name: GrLivArea, dtype: float64"
      ]
     },
     "execution_count": 42,
     "metadata": {},
     "output_type": "execute_result"
    }
   ],
   "source": [
    "df.GrLivArea.describe()"
   ]
  },
  {
   "cell_type": "code",
   "execution_count": 43,
   "id": "1bbd66eb-34f9-476e-9d11-c93f61fcd11b",
   "metadata": {},
   "outputs": [
    {
     "name": "stdout",
     "output_type": "stream",
     "text": [
      "Number of nans in GrLivArea: 0\n"
     ]
    }
   ],
   "source": [
    "n_nan = df.GrLivArea.isna().sum().item()\n",
    "print(f\"Number of nans in GrLivArea: {n_nan}\")"
   ]
  },
  {
   "cell_type": "code",
   "execution_count": 44,
   "id": "2531695a-61c0-405e-9ccf-ddb6a0000e12",
   "metadata": {},
   "outputs": [
    {
     "data": {
      "image/png": "[encoded data removed]",
      "text/plain": [
       "<Figure size 500x400 with 1 Axes>"
      ]
     },
     "metadata": {},
     "output_type": "display_data"
    }
   ],
   "source": [
    "df.GrLivArea.hist(bins=10, figsize=(5, 4))\n",
    "plt.show()"
   ]
  },
  {
   "cell_type": "markdown",
   "id": "457a7519-e539-431b-b52a-644e3b89642b",
   "metadata": {
    "jp-MarkdownHeadingCollapsed": true
   },
   "source": [
    "### Exploring the column values of MiscFeature"
   ]
  },
  {
   "cell_type": "code",
   "execution_count": 45,
   "id": "a77296cb-a493-40d1-9dde-0e99058ff01f",
   "metadata": {},
   "outputs": [
    {
     "data": {
      "text/plain": [
       "array([nan, 'Shed', 'Gar2', 'Othr', 'TenC'], dtype=object)"
      ]
     },
     "execution_count": 45,
     "metadata": {},
     "output_type": "execute_result"
    }
   ],
   "source": [
    "df.MiscFeature.unique()"
   ]
  },
  {
   "cell_type": "code",
   "execution_count": 46,
   "id": "7cb5ca0a-2fb3-4bcf-aaec-6f4151e9ec35",
   "metadata": {},
   "outputs": [
    {
     "data": {
      "text/plain": [
       "MiscFeature\n",
       "Shed    49\n",
       "Gar2     2\n",
       "Othr     2\n",
       "TenC     1\n",
       "Name: count, dtype: int64"
      ]
     },
     "execution_count": 46,
     "metadata": {},
     "output_type": "execute_result"
    }
   ],
   "source": [
    "df.MiscFeature.value_counts()"
   ]
  },
  {
   "cell_type": "markdown",
   "id": "224cef6b-8174-4996-b5a8-d73442ad9ea9",
   "metadata": {},
   "source": [
    "Over 96% of houses have no miscellaneous feature"
   ]
  },
  {
   "cell_type": "markdown",
   "id": "00eaf4c8-8f69-4ca2-b205-87e4151bbc48",
   "metadata": {},
   "source": [
    "#### Checking how prices differentiate depending on the MiscFeature"
   ]
  },
  {
   "cell_type": "code",
   "execution_count": 47,
   "id": "0da213b7-0eec-4656-90d2-64ce5cab2d4c",
   "metadata": {},
   "outputs": [
    {
     "data": {
      "text/plain": [
       "MiscFeature\n",
       "No feature     1406\n",
       "Shed             49\n",
       "Gar2              2\n",
       "Othr              2\n",
       "TenC              1\n",
       "Name: count, dtype: int64"
      ]
     },
     "execution_count": 47,
     "metadata": {},
     "output_type": "execute_result"
    }
   ],
   "source": [
    "misc_feature_series = df.MiscFeature.apply(lambda x: \"No feature\" if pd.isna(x) else x)\n",
    "misc_feature_df = pd.DataFrame(misc_feature_series.values, columns=[\"MiscFeature\"])\n",
    "misc_feature_df.value_counts()"
   ]
  },
  {
   "cell_type": "code",
   "execution_count": 48,
   "id": "f74cd294-cad5-4bf5-865f-ab961929327b",
   "metadata": {},
   "outputs": [],
   "source": [
    "misc_feature_df = pd.concat([misc_feature_df, df[[\"SalePrice\"]]], axis=1)"
   ]
  },
  {
   "cell_type": "code",
   "execution_count": 49,
   "id": "c85fbf5c-d96d-4c8b-983a-3468f33d805b",
   "metadata": {},
   "outputs": [
    {
     "data": {
      "text/html": [
       "<div>\n",
       "<style scoped>\n",
       "    .dataframe tbody tr th:only-of-type {\n",
       "        vertical-align: middle;\n",
       "    }\n",
       "\n",
       "    .dataframe tbody tr th {\n",
       "        vertical-align: top;\n",
       "    }\n",
       "\n",
       "    .dataframe thead th {\n",
       "        text-align: right;\n",
       "    }\n",
       "</style>\n",
       "<table border=\"1\" class=\"dataframe\">\n",
       "  <thead>\n",
       "    <tr style=\"text-align: right;\">\n",
       "      <th></th>\n",
       "      <th>MiscFeature</th>\n",
       "      <th>AvgSalePrice</th>\n",
       "    </tr>\n",
       "  </thead>\n",
       "  <tbody>\n",
       "    <tr>\n",
       "      <th>2</th>\n",
       "      <td>Othr</td>\n",
       "      <td>94000.0</td>\n",
       "    </tr>\n",
       "    <tr>\n",
       "      <th>3</th>\n",
       "      <td>Shed</td>\n",
       "      <td>151188.0</td>\n",
       "    </tr>\n",
       "    <tr>\n",
       "      <th>0</th>\n",
       "      <td>Gar2</td>\n",
       "      <td>170750.0</td>\n",
       "    </tr>\n",
       "    <tr>\n",
       "      <th>1</th>\n",
       "      <td>No feature</td>\n",
       "      <td>182046.0</td>\n",
       "    </tr>\n",
       "    <tr>\n",
       "      <th>4</th>\n",
       "      <td>TenC</td>\n",
       "      <td>250000.0</td>\n",
       "    </tr>\n",
       "  </tbody>\n",
       "</table>\n",
       "</div>"
      ],
      "text/plain": [
       "  MiscFeature  AvgSalePrice\n",
       "2        Othr       94000.0\n",
       "3        Shed      151188.0\n",
       "0        Gar2      170750.0\n",
       "1  No feature      182046.0\n",
       "4        TenC      250000.0"
      ]
     },
     "execution_count": 49,
     "metadata": {},
     "output_type": "execute_result"
    }
   ],
   "source": [
    "avg_price_per_feature = misc_feature_df.groupby(\"MiscFeature\")[\"SalePrice\"].mean().round().reset_index()\n",
    "avg_price_per_feature = avg_price_per_feature.sort_values(\"SalePrice\")\n",
    "avg_price_per_feature = avg_price_per_feature.rename(columns={\"SalePrice\": \"AvgSalePrice\"})\n",
    "avg_price_per_feature"
   ]
  },
  {
   "cell_type": "markdown",
   "id": "cef6684c-c63f-4b3d-be7a-fe572c1a1230",
   "metadata": {},
   "source": [
    "As can be seen the highest avg price have the houses with Tennis Court while houses with no features have the second highest avg price"
   ]
  },
  {
   "cell_type": "markdown",
   "id": "ec892c8a-0baf-4742-9fa9-60b60fa3f8be",
   "metadata": {},
   "source": [
    "If there were more samples with tennis courts - we could create a separate binary feature, since the price of such house is distinctively high, but since there is only one sample with tennis court - we will omit such proceeding"
   ]
  },
  {
   "cell_type": "markdown",
   "id": "9920c454-19ec-4364-88be-5d4102984348",
   "metadata": {},
   "source": [
    "It is reasonable to transform MiscFeature column into a binary feature that determines whether house has one of the miscellaneous features or not."
   ]
  },
  {
   "cell_type": "markdown",
   "id": "ba4930cf-14a2-4243-8bf5-fe4de288c32b",
   "metadata": {},
   "source": [
    "### The correlation matrix of non-categorical fatures and the sale price(before transformations)"
   ]
  },
  {
   "cell_type": "markdown",
   "id": "1bbc963f-23d7-4a04-a668-9fbce307b627",
   "metadata": {},
   "source": [
    "Non-categorical features:\n",
    "- YearBuilt\n",
    "- YearRemodAdd\n",
    "- 1stFlrSF\n",
    "- 2ndFlrSF\n",
    "- LowQualFinSF\n",
    "- GrLivArea"
   ]
  },
  {
   "cell_type": "code",
   "execution_count": 50,
   "id": "fb1df047-9d98-4ac6-87a7-018c9134b43e",
   "metadata": {},
   "outputs": [],
   "source": [
    "df_num = df[[\"YearBuilt\", \"YearRemodAdd\", \"1stFlrSF\", \"2ndFlrSF\", \"LowQualFinSF\", \"GrLivArea\", \"SalePrice\"]]"
   ]
  },
  {
   "cell_type": "code",
   "execution_count": 51,
   "id": "c7e5774c-5e94-4174-9719-ef5c0d74d0df",
   "metadata": {},
   "outputs": [
    {
     "data": {
      "image/png": "[encoded data removed]",
      "text/plain": [
       "<Figure size 600x600 with 2 Axes>"
      ]
     },
     "metadata": {},
     "output_type": "display_data"
    }
   ],
   "source": [
    "corr_matrix = df_num.corr()\n",
    "plt.figure(figsize=(6, 6))\n",
    "sns.heatmap(corr_matrix, annot=True, fmt=\".2f\", cmap='coolwarm', linewidths=0.5, cbar_kws={\"shrink\": .8}, square=True)\n",
    "plt.show()"
   ]
  },
  {
   "cell_type": "markdown",
   "id": "e4109806-5d6c-4595-970b-05d624661753",
   "metadata": {},
   "source": [
    "Primary Conclusions:\n",
    "1. GrLivArea and 1stFlrSF have a strong positive correlation with the SalePrice\n",
    "2. YearBuilt and YearRemodAdd have a moderetely strong positive correlation with the SalePrice\n",
    "3. 2ndFlrSF has a rather weak positive correlation with the SalePrice\n",
    "4. LowQualFinSF has a very weak negative correlation with the SalePrice and can be regarded as redundant\n",
    "5. Since YearBuilt and YearRemodAdd are the same if no remodeling or additions were done - YearRemodAdd may be redundant\n",
    "6. Since GrLivArea is a sub-area of a 1stFlrSF - we see a pretty strong positive correlation between these features"
   ]
  }
 ],
 "metadata": {
  "kernelspec": {
   "display_name": "Python (kaggle_house_pricing)",
   "language": "python",
   "name": "kaggle_house_pricing"
  },
  "language_info": {
   "codemirror_mode": {
    "name": "ipython",
    "version": 3
   },
   "file_extension": ".py",
   "mimetype": "text/x-python",
   "name": "python",
   "nbconvert_exporter": "python",
   "pygments_lexer": "ipython3",
   "version": "3.13.7"
  }
 },
 "nbformat": 4,
 "nbformat_minor": 5
}
