{
 "cells": [
  {
   "cell_type": "code",
   "execution_count": 1,
   "id": "defbf16d",
   "metadata": {},
   "outputs": [],
   "source": [
    "import numpy as np\n",
    "import pandas as pd\n",
    "import seaborn as sns\n",
    "import matplotlib.pyplot as plt\n",
    "import sklearn.preprocessing as prepoc\n",
    "from sklearn.preprocessing import OneHotEncoder, StandardScaler\n",
    "%matplotlib inline"
   ]
  },
  {
   "cell_type": "markdown",
   "id": "de5cda03",
   "metadata": {},
   "source": [
    "### Loading data"
   ]
  },
  {
   "cell_type": "code",
   "execution_count": 2,
   "id": "3b2e2277",
   "metadata": {},
   "outputs": [],
   "source": [
    "data_dir = \"../data/train.csv\"\n",
    "df = pd.read_csv(data_dir)"
   ]
  },
  {
   "cell_type": "markdown",
   "id": "a8e3b0f2",
   "metadata": {},
   "source": [
    "### Features that describe the basement of the house\n",
    "\n",
    "- BsmtQual: Evaluates the height of the basement\n",
    "- BsmtCond: Evaluates the general condition of the basement\n",
    "- BsmtExposure: Refers to walkout or garden level walls\n",
    "- BsmtFinType1: Rating of basement finished area\n",
    "- BsmtFinSF1: Type 1 finished square feet\n",
    "- BsmtFinType2: Rating of basement finished area (if multiple types)\n",
    "- BsmtFinSF2: Type 2 finished square feet\n",
    "- BsmtUnfSF: Unfinished square feet of basement area\n",
    "- TotalBsmtSF: Total square feet of basement area"
   ]
  },
  {
   "cell_type": "markdown",
   "id": "70c40b01",
   "metadata": {},
   "source": [
    "### Exploring column values of BsmtQual"
   ]
  },
  {
   "cell_type": "code",
   "execution_count": 3,
   "id": "d76c072d",
   "metadata": {},
   "outputs": [
    {
     "data": {
      "text/plain": [
       "array(['Gd', 'TA', 'Ex', nan, 'Fa'], dtype=object)"
      ]
     },
     "execution_count": 3,
     "metadata": {},
     "output_type": "execute_result"
    }
   ],
   "source": [
    "df.BsmtQual.unique()"
   ]
  },
  {
   "cell_type": "code",
   "execution_count": 4,
   "id": "1d875edf",
   "metadata": {},
   "outputs": [
    {
     "data": {
      "text/plain": [
       "BsmtQual\n",
       "TA    649\n",
       "Gd    618\n",
       "Ex    121\n",
       "Fa     35\n",
       "Name: count, dtype: int64"
      ]
     },
     "execution_count": 4,
     "metadata": {},
     "output_type": "execute_result"
    }
   ],
   "source": [
    "df.BsmtQual.value_counts()"
   ]
  },
  {
   "cell_type": "markdown",
   "id": "4ed91343",
   "metadata": {},
   "source": [
    "Over 97% of houses do have a basement"
   ]
  },
  {
   "cell_type": "markdown",
   "id": "f59c618d",
   "metadata": {},
   "source": [
    "#### Checking how prices differentiate depending on the Basement height"
   ]
  },
  {
   "cell_type": "code",
   "execution_count": 5,
   "id": "b0c8b563",
   "metadata": {},
   "outputs": [
    {
     "data": {
      "text/plain": [
       "BsmtQual   \n",
       "TA             649\n",
       "Gd             618\n",
       "Ex             121\n",
       "No basement     37\n",
       "Fa              35\n",
       "Name: count, dtype: int64"
      ]
     },
     "execution_count": 5,
     "metadata": {},
     "output_type": "execute_result"
    }
   ],
   "source": [
    "basement_ql_series = df.BsmtQual.apply(lambda x: \"No basement\" if pd.isna(x) else x)\n",
    "basement_ql_df = pd.DataFrame(basement_ql_series.values, columns=[\"BsmtQual\"])\n",
    "basement_ql_df.value_counts()"
   ]
  },
  {
   "cell_type": "code",
   "execution_count": 6,
   "id": "4b5e161f",
   "metadata": {},
   "outputs": [],
   "source": [
    "basement_ql_df = pd.concat([basement_ql_df, df[[\"SalePrice\"]]], axis=1)"
   ]
  },
  {
   "cell_type": "code",
   "execution_count": 7,
   "id": "e0c12fe5",
   "metadata": {},
   "outputs": [
    {
     "data": {
      "text/html": [
       "<div>\n",
       "<style scoped>\n",
       "    .dataframe tbody tr th:only-of-type {\n",
       "        vertical-align: middle;\n",
       "    }\n",
       "\n",
       "    .dataframe tbody tr th {\n",
       "        vertical-align: top;\n",
       "    }\n",
       "\n",
       "    .dataframe thead th {\n",
       "        text-align: right;\n",
       "    }\n",
       "</style>\n",
       "<table border=\"1\" class=\"dataframe\">\n",
       "  <thead>\n",
       "    <tr style=\"text-align: right;\">\n",
       "      <th></th>\n",
       "      <th>BsmtQual</th>\n",
       "      <th>AvgSalePrice</th>\n",
       "    </tr>\n",
       "  </thead>\n",
       "  <tbody>\n",
       "    <tr>\n",
       "      <th>3</th>\n",
       "      <td>No basement</td>\n",
       "      <td>105653.0</td>\n",
       "    </tr>\n",
       "    <tr>\n",
       "      <th>1</th>\n",
       "      <td>Fa</td>\n",
       "      <td>115692.0</td>\n",
       "    </tr>\n",
       "    <tr>\n",
       "      <th>4</th>\n",
       "      <td>TA</td>\n",
       "      <td>140760.0</td>\n",
       "    </tr>\n",
       "    <tr>\n",
       "      <th>2</th>\n",
       "      <td>Gd</td>\n",
       "      <td>202688.0</td>\n",
       "    </tr>\n",
       "    <tr>\n",
       "      <th>0</th>\n",
       "      <td>Ex</td>\n",
       "      <td>327041.0</td>\n",
       "    </tr>\n",
       "  </tbody>\n",
       "</table>\n",
       "</div>"
      ],
      "text/plain": [
       "      BsmtQual  AvgSalePrice\n",
       "3  No basement      105653.0\n",
       "1           Fa      115692.0\n",
       "4           TA      140760.0\n",
       "2           Gd      202688.0\n",
       "0           Ex      327041.0"
      ]
     },
     "execution_count": 7,
     "metadata": {},
     "output_type": "execute_result"
    }
   ],
   "source": [
    "avg_price_per_basement_ql = basement_ql_df.groupby(\"BsmtQual\")[\"SalePrice\"].mean().round().reset_index()\n",
    "avg_price_per_basement_ql = avg_price_per_basement_ql.sort_values(\"SalePrice\")\n",
    "avg_price_per_basement_ql = avg_price_per_basement_ql.rename(columns={\"SalePrice\": \"AvgSalePrice\"})\n",
    "avg_price_per_basement_ql"
   ]
  },
  {
   "cell_type": "markdown",
   "id": "704f56da",
   "metadata": {},
   "source": [
    "It is seen that we can create at leat three binary features out of this column:\n",
    "1. Binary feature to check a basement presence, namely - Basement\n",
    "2. Binary feature to check whether the basement is very high (Ex category), namely - HBasement\n",
    "3. Binary feature to check whether the basement has good enough height (Gd category), namely - GdeBasement\n",
    "4. Binary feature to check whether the basement has a mediocre height(TA, FA, Po categories), namely - MBasement"
   ]
  },
  {
   "cell_type": "markdown",
   "id": "ba8cd6f5",
   "metadata": {
    "jp-MarkdownHeadingCollapsed": true
   },
   "source": [
    "### Exploring column values of BsmtCond"
   ]
  },
  {
   "cell_type": "code",
   "execution_count": 8,
   "id": "5cd576ac",
   "metadata": {},
   "outputs": [
    {
     "data": {
      "text/plain": [
       "array(['TA', 'Gd', nan, 'Fa', 'Po'], dtype=object)"
      ]
     },
     "execution_count": 8,
     "metadata": {},
     "output_type": "execute_result"
    }
   ],
   "source": [
    "df.BsmtCond.unique()"
   ]
  },
  {
   "cell_type": "code",
   "execution_count": 9,
   "id": "7b5cb730",
   "metadata": {},
   "outputs": [
    {
     "data": {
      "text/plain": [
       "BsmtCond\n",
       "TA    1311\n",
       "Gd      65\n",
       "Fa      45\n",
       "Po       2\n",
       "Name: count, dtype: int64"
      ]
     },
     "execution_count": 9,
     "metadata": {},
     "output_type": "execute_result"
    }
   ],
   "source": [
    "df.BsmtCond.value_counts()"
   ]
  },
  {
   "cell_type": "markdown",
   "id": "d46858f2",
   "metadata": {},
   "source": [
    "#### Checking how prices differentiate depending on the Basement condition"
   ]
  },
  {
   "cell_type": "code",
   "execution_count": 10,
   "id": "f0688a2d",
   "metadata": {},
   "outputs": [
    {
     "data": {
      "text/plain": [
       "BsmtCond   \n",
       "TA             1311\n",
       "Gd               65\n",
       "Fa               45\n",
       "No basement      37\n",
       "Po                2\n",
       "Name: count, dtype: int64"
      ]
     },
     "execution_count": 10,
     "metadata": {},
     "output_type": "execute_result"
    }
   ],
   "source": [
    "basement_cd_series = df.BsmtCond.apply(lambda x: \"No basement\" if pd.isna(x) else x)\n",
    "basement_cd_df = pd.DataFrame(basement_cd_series.values, columns=[\"BsmtCond\"])\n",
    "basement_cd_df.value_counts()"
   ]
  },
  {
   "cell_type": "code",
   "execution_count": 11,
   "id": "1f29c64f",
   "metadata": {},
   "outputs": [],
   "source": [
    "basement_cd_df = pd.concat([basement_cd_df, df[[\"SalePrice\"]]], axis=1)"
   ]
  },
  {
   "cell_type": "code",
   "execution_count": 12,
   "id": "d58ca641",
   "metadata": {},
   "outputs": [
    {
     "data": {
      "text/html": [
       "<div>\n",
       "<style scoped>\n",
       "    .dataframe tbody tr th:only-of-type {\n",
       "        vertical-align: middle;\n",
       "    }\n",
       "\n",
       "    .dataframe tbody tr th {\n",
       "        vertical-align: top;\n",
       "    }\n",
       "\n",
       "    .dataframe thead th {\n",
       "        text-align: right;\n",
       "    }\n",
       "</style>\n",
       "<table border=\"1\" class=\"dataframe\">\n",
       "  <thead>\n",
       "    <tr style=\"text-align: right;\">\n",
       "      <th></th>\n",
       "      <th>BsmtCond</th>\n",
       "      <th>AvgSalePrice</th>\n",
       "    </tr>\n",
       "  </thead>\n",
       "  <tbody>\n",
       "    <tr>\n",
       "      <th>3</th>\n",
       "      <td>Po</td>\n",
       "      <td>64000.0</td>\n",
       "    </tr>\n",
       "    <tr>\n",
       "      <th>2</th>\n",
       "      <td>No basement</td>\n",
       "      <td>105653.0</td>\n",
       "    </tr>\n",
       "    <tr>\n",
       "      <th>0</th>\n",
       "      <td>Fa</td>\n",
       "      <td>121810.0</td>\n",
       "    </tr>\n",
       "    <tr>\n",
       "      <th>4</th>\n",
       "      <td>TA</td>\n",
       "      <td>183633.0</td>\n",
       "    </tr>\n",
       "    <tr>\n",
       "      <th>1</th>\n",
       "      <td>Gd</td>\n",
       "      <td>213600.0</td>\n",
       "    </tr>\n",
       "  </tbody>\n",
       "</table>\n",
       "</div>"
      ],
      "text/plain": [
       "      BsmtCond  AvgSalePrice\n",
       "3           Po       64000.0\n",
       "2  No basement      105653.0\n",
       "0           Fa      121810.0\n",
       "4           TA      183633.0\n",
       "1           Gd      213600.0"
      ]
     },
     "execution_count": 12,
     "metadata": {},
     "output_type": "execute_result"
    }
   ],
   "source": [
    "avg_price_per_basement_cd = basement_cd_df.groupby(\"BsmtCond\")[\"SalePrice\"].mean().round().reset_index()\n",
    "avg_price_per_basement_cd = avg_price_per_basement_cd.sort_values(\"SalePrice\")\n",
    "avg_price_per_basement_cd = avg_price_per_basement_cd.rename(columns={\"SalePrice\": \"AvgSalePrice\"})\n",
    "avg_price_per_basement_cd"
   ]
  },
  {
   "cell_type": "markdown",
   "id": "7490753b",
   "metadata": {},
   "source": [
    "Probably there is a need to create a binary feature for each of the categories"
   ]
  },
  {
   "cell_type": "markdown",
   "id": "50363bfe",
   "metadata": {
    "jp-MarkdownHeadingCollapsed": true
   },
   "source": [
    "### Exploring column values of BsmtExposure"
   ]
  },
  {
   "cell_type": "code",
   "execution_count": 13,
   "id": "215c8daf",
   "metadata": {},
   "outputs": [
    {
     "data": {
      "text/plain": [
       "array(['No', 'Gd', 'Mn', 'Av', nan], dtype=object)"
      ]
     },
     "execution_count": 13,
     "metadata": {},
     "output_type": "execute_result"
    }
   ],
   "source": [
    "df.BsmtExposure.unique()"
   ]
  },
  {
   "cell_type": "code",
   "execution_count": 14,
   "id": "e4823873",
   "metadata": {},
   "outputs": [
    {
     "data": {
      "text/plain": [
       "BsmtExposure\n",
       "No    953\n",
       "Av    221\n",
       "Gd    134\n",
       "Mn    114\n",
       "Name: count, dtype: int64"
      ]
     },
     "execution_count": 14,
     "metadata": {},
     "output_type": "execute_result"
    }
   ],
   "source": [
    "df.BsmtExposure.value_counts()"
   ]
  },
  {
   "cell_type": "markdown",
   "id": "1c1f2962",
   "metadata": {},
   "source": [
    "Over 67% of houses that have a basement - are not exposed"
   ]
  },
  {
   "cell_type": "markdown",
   "id": "663d54c7",
   "metadata": {},
   "source": [
    "#### Checking how prices differentiate depending on the Basement exposure"
   ]
  },
  {
   "cell_type": "code",
   "execution_count": 15,
   "id": "a2433b52",
   "metadata": {},
   "outputs": [
    {
     "data": {
      "text/plain": [
       "BsmtExposure\n",
       "No              953\n",
       "Av              221\n",
       "Gd              134\n",
       "Mn              114\n",
       "No basement      38\n",
       "Name: count, dtype: int64"
      ]
     },
     "execution_count": 15,
     "metadata": {},
     "output_type": "execute_result"
    }
   ],
   "source": [
    "basement_exp_series = df.BsmtExposure.apply(lambda x: \"No basement\" if pd.isna(x) else x)\n",
    "basement_exp_df = pd.DataFrame(basement_exp_series.values, columns=[\"BsmtExposure\"])\n",
    "basement_exp_df.value_counts()"
   ]
  },
  {
   "cell_type": "code",
   "execution_count": 16,
   "id": "9deb1649",
   "metadata": {},
   "outputs": [],
   "source": [
    "basement_exp_df = pd.concat([basement_exp_df, df[[\"SalePrice\"]]], axis=1)"
   ]
  },
  {
   "cell_type": "code",
   "execution_count": 17,
   "id": "1511ac12",
   "metadata": {},
   "outputs": [
    {
     "data": {
      "text/html": [
       "<div>\n",
       "<style scoped>\n",
       "    .dataframe tbody tr th:only-of-type {\n",
       "        vertical-align: middle;\n",
       "    }\n",
       "\n",
       "    .dataframe tbody tr th {\n",
       "        vertical-align: top;\n",
       "    }\n",
       "\n",
       "    .dataframe thead th {\n",
       "        text-align: right;\n",
       "    }\n",
       "</style>\n",
       "<table border=\"1\" class=\"dataframe\">\n",
       "  <thead>\n",
       "    <tr style=\"text-align: right;\">\n",
       "      <th></th>\n",
       "      <th>BsmtExposure</th>\n",
       "      <th>AvgSalePrice</th>\n",
       "    </tr>\n",
       "  </thead>\n",
       "  <tbody>\n",
       "    <tr>\n",
       "      <th>4</th>\n",
       "      <td>No basement</td>\n",
       "      <td>107938.0</td>\n",
       "    </tr>\n",
       "    <tr>\n",
       "      <th>3</th>\n",
       "      <td>No</td>\n",
       "      <td>165652.0</td>\n",
       "    </tr>\n",
       "    <tr>\n",
       "      <th>2</th>\n",
       "      <td>Mn</td>\n",
       "      <td>192790.0</td>\n",
       "    </tr>\n",
       "    <tr>\n",
       "      <th>0</th>\n",
       "      <td>Av</td>\n",
       "      <td>206643.0</td>\n",
       "    </tr>\n",
       "    <tr>\n",
       "      <th>1</th>\n",
       "      <td>Gd</td>\n",
       "      <td>257690.0</td>\n",
       "    </tr>\n",
       "  </tbody>\n",
       "</table>\n",
       "</div>"
      ],
      "text/plain": [
       "  BsmtExposure  AvgSalePrice\n",
       "4  No basement      107938.0\n",
       "3           No      165652.0\n",
       "2           Mn      192790.0\n",
       "0           Av      206643.0\n",
       "1           Gd      257690.0"
      ]
     },
     "execution_count": 17,
     "metadata": {},
     "output_type": "execute_result"
    }
   ],
   "source": [
    "avg_price_per_basement_exp = basement_exp_df.groupby(\"BsmtExposure\")[\"SalePrice\"].mean().round().reset_index()\n",
    "avg_price_per_basement_exp = avg_price_per_basement_exp.sort_values(\"SalePrice\")\n",
    "avg_price_per_basement_exp = avg_price_per_basement_exp.rename(columns={\"SalePrice\": \"AvgSalePrice\"})\n",
    "avg_price_per_basement_exp"
   ]
  },
  {
   "cell_type": "markdown",
   "id": "906e7d07",
   "metadata": {},
   "source": [
    "There is a need to create a separate binary feature for each of the categories except for Mn and Av, for them we can create a single binary feature, namely - MidExp, since their avg prices are not drastically different"
   ]
  },
  {
   "cell_type": "markdown",
   "id": "2e31b7c8",
   "metadata": {
    "jp-MarkdownHeadingCollapsed": true
   },
   "source": [
    "### Exploring column values of BsmtFinType1"
   ]
  },
  {
   "cell_type": "code",
   "execution_count": 18,
   "id": "8acc43f4",
   "metadata": {},
   "outputs": [
    {
     "data": {
      "text/plain": [
       "array(['GLQ', 'ALQ', 'Unf', 'Rec', 'BLQ', nan, 'LwQ'], dtype=object)"
      ]
     },
     "execution_count": 18,
     "metadata": {},
     "output_type": "execute_result"
    }
   ],
   "source": [
    "df.BsmtFinType1.unique()"
   ]
  },
  {
   "cell_type": "code",
   "execution_count": 19,
   "id": "e083e3dc",
   "metadata": {},
   "outputs": [
    {
     "data": {
      "text/plain": [
       "BsmtFinType1\n",
       "Unf    430\n",
       "GLQ    418\n",
       "ALQ    220\n",
       "BLQ    148\n",
       "Rec    133\n",
       "LwQ     74\n",
       "Name: count, dtype: int64"
      ]
     },
     "execution_count": 19,
     "metadata": {},
     "output_type": "execute_result"
    }
   ],
   "source": [
    "df.BsmtFinType1.value_counts()"
   ]
  },
  {
   "cell_type": "markdown",
   "id": "d879e0be",
   "metadata": {},
   "source": [
    "#### Checking how prices differentiate depending on the rating of the basement finished area"
   ]
  },
  {
   "cell_type": "code",
   "execution_count": 20,
   "id": "ed6cc6b0",
   "metadata": {},
   "outputs": [
    {
     "data": {
      "text/plain": [
       "BsmtFinType1\n",
       "Unf             430\n",
       "GLQ             418\n",
       "ALQ             220\n",
       "BLQ             148\n",
       "Rec             133\n",
       "LwQ              74\n",
       "No basement      37\n",
       "Name: count, dtype: int64"
      ]
     },
     "execution_count": 20,
     "metadata": {},
     "output_type": "execute_result"
    }
   ],
   "source": [
    "basement_fintp1_series = df.BsmtFinType1.apply(lambda x: \"No basement\" if pd.isna(x) else x)\n",
    "basement_fintp1_df = pd.DataFrame(basement_fintp1_series.values, columns=[\"BsmtFinType1\"])\n",
    "basement_fintp1_df.value_counts()"
   ]
  },
  {
   "cell_type": "code",
   "execution_count": 21,
   "id": "418eab1f",
   "metadata": {},
   "outputs": [],
   "source": [
    "basement_fintp1_df = pd.concat([basement_fintp1_df, df[[\"SalePrice\"]]], axis=1)"
   ]
  },
  {
   "cell_type": "code",
   "execution_count": 22,
   "id": "24061039",
   "metadata": {},
   "outputs": [
    {
     "data": {
      "text/html": [
       "<div>\n",
       "<style scoped>\n",
       "    .dataframe tbody tr th:only-of-type {\n",
       "        vertical-align: middle;\n",
       "    }\n",
       "\n",
       "    .dataframe tbody tr th {\n",
       "        vertical-align: top;\n",
       "    }\n",
       "\n",
       "    .dataframe thead th {\n",
       "        text-align: right;\n",
       "    }\n",
       "</style>\n",
       "<table border=\"1\" class=\"dataframe\">\n",
       "  <thead>\n",
       "    <tr style=\"text-align: right;\">\n",
       "      <th></th>\n",
       "      <th>BsmtFinType1</th>\n",
       "      <th>AvgSalePrice</th>\n",
       "    </tr>\n",
       "  </thead>\n",
       "  <tbody>\n",
       "    <tr>\n",
       "      <th>4</th>\n",
       "      <td>No basement</td>\n",
       "      <td>105653.0</td>\n",
       "    </tr>\n",
       "    <tr>\n",
       "      <th>5</th>\n",
       "      <td>Rec</td>\n",
       "      <td>146889.0</td>\n",
       "    </tr>\n",
       "    <tr>\n",
       "      <th>1</th>\n",
       "      <td>BLQ</td>\n",
       "      <td>149494.0</td>\n",
       "    </tr>\n",
       "    <tr>\n",
       "      <th>3</th>\n",
       "      <td>LwQ</td>\n",
       "      <td>151853.0</td>\n",
       "    </tr>\n",
       "    <tr>\n",
       "      <th>0</th>\n",
       "      <td>ALQ</td>\n",
       "      <td>161573.0</td>\n",
       "    </tr>\n",
       "    <tr>\n",
       "      <th>6</th>\n",
       "      <td>Unf</td>\n",
       "      <td>170671.0</td>\n",
       "    </tr>\n",
       "    <tr>\n",
       "      <th>2</th>\n",
       "      <td>GLQ</td>\n",
       "      <td>235414.0</td>\n",
       "    </tr>\n",
       "  </tbody>\n",
       "</table>\n",
       "</div>"
      ],
      "text/plain": [
       "  BsmtFinType1  AvgSalePrice\n",
       "4  No basement      105653.0\n",
       "5          Rec      146889.0\n",
       "1          BLQ      149494.0\n",
       "3          LwQ      151853.0\n",
       "0          ALQ      161573.0\n",
       "6          Unf      170671.0\n",
       "2          GLQ      235414.0"
      ]
     },
     "execution_count": 22,
     "metadata": {},
     "output_type": "execute_result"
    }
   ],
   "source": [
    "avg_price_per_basement_fintp1 = basement_fintp1_df.groupby(\"BsmtFinType1\")[\"SalePrice\"].mean().round().reset_index()\n",
    "avg_price_per_basement_fintp1 = avg_price_per_basement_fintp1.sort_values(\"SalePrice\")\n",
    "avg_price_per_basement_fintp1 = avg_price_per_basement_fintp1.rename(columns={\"SalePrice\": \"AvgSalePrice\"})\n",
    "avg_price_per_basement_fintp1"
   ]
  },
  {
   "cell_type": "markdown",
   "id": "9e5fbabd-82c5-489f-a400-bc77099bc99e",
   "metadata": {},
   "source": [
    "Concluding, we can make the following binary features:\n",
    "1. GLQ - Good Living Quarters\n",
    "2. UnfQ - Unfinshed Living Quarters\n",
    "3. ALQ - Average Living Quarters\n",
    "4. LwQ - Low Quality Living Quarters (encompasses LwQ, BLQ, Rec)"
   ]
  },
  {
   "cell_type": "markdown",
   "id": "76d98a3d-16c3-4b89-a844-08aa0efc38ba",
   "metadata": {
    "jp-MarkdownHeadingCollapsed": true
   },
   "source": [
    "### Exploring column values of BsmtFinType2"
   ]
  },
  {
   "cell_type": "code",
   "execution_count": 23,
   "id": "40d2bac3-ac07-425b-9836-0d96d46f4da1",
   "metadata": {},
   "outputs": [
    {
     "data": {
      "text/plain": [
       "array(['Unf', 'BLQ', nan, 'ALQ', 'Rec', 'LwQ', 'GLQ'], dtype=object)"
      ]
     },
     "execution_count": 23,
     "metadata": {},
     "output_type": "execute_result"
    }
   ],
   "source": [
    "df.BsmtFinType2.unique()"
   ]
  },
  {
   "cell_type": "code",
   "execution_count": 24,
   "id": "9c6d3df0-7505-4031-bc51-f22521fa7085",
   "metadata": {},
   "outputs": [
    {
     "data": {
      "text/plain": [
       "BsmtFinType2\n",
       "Unf    1256\n",
       "Rec      54\n",
       "LwQ      46\n",
       "BLQ      33\n",
       "ALQ      19\n",
       "GLQ      14\n",
       "Name: count, dtype: int64"
      ]
     },
     "execution_count": 24,
     "metadata": {},
     "output_type": "execute_result"
    }
   ],
   "source": [
    "df.BsmtFinType2.value_counts()"
   ]
  },
  {
   "cell_type": "markdown",
   "id": "524fffbb-c186-440f-9e68-4d1acbb6814c",
   "metadata": {},
   "source": [
    "#### Checking how prices differentiate depending on the rating of the basement finished area (if multiple types)"
   ]
  },
  {
   "cell_type": "code",
   "execution_count": 25,
   "id": "743b3989-2237-4400-8393-f0c5342b757e",
   "metadata": {},
   "outputs": [
    {
     "data": {
      "text/plain": [
       "BsmtFinType2\n",
       "Unf             1256\n",
       "Rec               54\n",
       "LwQ               46\n",
       "No basement       38\n",
       "BLQ               33\n",
       "ALQ               19\n",
       "GLQ               14\n",
       "Name: count, dtype: int64"
      ]
     },
     "execution_count": 25,
     "metadata": {},
     "output_type": "execute_result"
    }
   ],
   "source": [
    "basement_fintp2_series = df.BsmtFinType2.apply(lambda x: \"No basement\" if pd.isna(x) else x)\n",
    "basement_fintp2_df = pd.DataFrame(basement_fintp2_series.values, columns=[\"BsmtFinType2\"])\n",
    "basement_fintp2_df.value_counts()"
   ]
  },
  {
   "cell_type": "code",
   "execution_count": 26,
   "id": "2f2d3804-c013-4b4c-9c03-d6b21c1b3740",
   "metadata": {},
   "outputs": [],
   "source": [
    "basement_fintp2_df = pd.concat([basement_fintp2_df, df[[\"SalePrice\"]]], axis=1)"
   ]
  },
  {
   "cell_type": "code",
   "execution_count": 27,
   "id": "f9aacd76-dfc2-48b6-9824-3cb2a482ac44",
   "metadata": {},
   "outputs": [
    {
     "data": {
      "text/html": [
       "<div>\n",
       "<style scoped>\n",
       "    .dataframe tbody tr th:only-of-type {\n",
       "        vertical-align: middle;\n",
       "    }\n",
       "\n",
       "    .dataframe tbody tr th {\n",
       "        vertical-align: top;\n",
       "    }\n",
       "\n",
       "    .dataframe thead th {\n",
       "        text-align: right;\n",
       "    }\n",
       "</style>\n",
       "<table border=\"1\" class=\"dataframe\">\n",
       "  <thead>\n",
       "    <tr style=\"text-align: right;\">\n",
       "      <th></th>\n",
       "      <th>BsmtFinType2</th>\n",
       "      <th>AvgSalePrice</th>\n",
       "    </tr>\n",
       "  </thead>\n",
       "  <tbody>\n",
       "    <tr>\n",
       "      <th>4</th>\n",
       "      <td>No basement</td>\n",
       "      <td>110346.0</td>\n",
       "    </tr>\n",
       "    <tr>\n",
       "      <th>1</th>\n",
       "      <td>BLQ</td>\n",
       "      <td>151101.0</td>\n",
       "    </tr>\n",
       "    <tr>\n",
       "      <th>3</th>\n",
       "      <td>LwQ</td>\n",
       "      <td>164364.0</td>\n",
       "    </tr>\n",
       "    <tr>\n",
       "      <th>5</th>\n",
       "      <td>Rec</td>\n",
       "      <td>164917.0</td>\n",
       "    </tr>\n",
       "    <tr>\n",
       "      <th>2</th>\n",
       "      <td>GLQ</td>\n",
       "      <td>180982.0</td>\n",
       "    </tr>\n",
       "    <tr>\n",
       "      <th>6</th>\n",
       "      <td>Unf</td>\n",
       "      <td>184695.0</td>\n",
       "    </tr>\n",
       "    <tr>\n",
       "      <th>0</th>\n",
       "      <td>ALQ</td>\n",
       "      <td>209942.0</td>\n",
       "    </tr>\n",
       "  </tbody>\n",
       "</table>\n",
       "</div>"
      ],
      "text/plain": [
       "  BsmtFinType2  AvgSalePrice\n",
       "4  No basement      110346.0\n",
       "1          BLQ      151101.0\n",
       "3          LwQ      164364.0\n",
       "5          Rec      164917.0\n",
       "2          GLQ      180982.0\n",
       "6          Unf      184695.0\n",
       "0          ALQ      209942.0"
      ]
     },
     "execution_count": 27,
     "metadata": {},
     "output_type": "execute_result"
    }
   ],
   "source": [
    "avg_price_per_basement_fintp2 = basement_fintp2_df.groupby(\"BsmtFinType2\")[\"SalePrice\"].mean().round().reset_index()\n",
    "avg_price_per_basement_fintp2 = avg_price_per_basement_fintp2.sort_values(\"SalePrice\")\n",
    "avg_price_per_basement_fintp2 = avg_price_per_basement_fintp2.rename(columns={\"SalePrice\": \"AvgSalePrice\"})\n",
    "avg_price_per_basement_fintp2"
   ]
  },
  {
   "cell_type": "markdown",
   "id": "57572c48-c779-4396-aaf4-1b35df39ab20",
   "metadata": {
    "jp-MarkdownHeadingCollapsed": true
   },
   "source": [
    "### Exploring column values of BsmtFinSF1"
   ]
  },
  {
   "cell_type": "code",
   "execution_count": 28,
   "id": "296b9f03-883b-4945-8942-0c8e4c081043",
   "metadata": {},
   "outputs": [
    {
     "data": {
      "text/plain": [
       "count    1460.000000\n",
       "mean      443.639726\n",
       "std       456.098091\n",
       "min         0.000000\n",
       "25%         0.000000\n",
       "50%       383.500000\n",
       "75%       712.250000\n",
       "max      5644.000000\n",
       "Name: BsmtFinSF1, dtype: float64"
      ]
     },
     "execution_count": 28,
     "metadata": {},
     "output_type": "execute_result"
    }
   ],
   "source": [
    "df.BsmtFinSF1.describe()"
   ]
  },
  {
   "cell_type": "code",
   "execution_count": 31,
   "id": "390d6510-5b93-4b60-a227-0798cc611d6d",
   "metadata": {},
   "outputs": [
    {
     "name": "stdout",
     "output_type": "stream",
     "text": [
      "Number of nans in BsmtFinSF1: 0\n"
     ]
    }
   ],
   "source": [
    "n_nan = df.BsmtFinSF1.isna().sum().item()\n",
    "print(f\"Number of nans in BsmtFinSF1: {n_nan}\")"
   ]
  },
  {
   "cell_type": "code",
   "execution_count": 37,
   "id": "3b4939db-7419-47e1-9df0-f6fb90a683ad",
   "metadata": {},
   "outputs": [
    {
     "data": {
      "image/png": "[encoded data removed]",
      "text/plain": [
       "<Figure size 500x400 with 1 Axes>"
      ]
     },
     "metadata": {},
     "output_type": "display_data"
    }
   ],
   "source": [
    "df.BsmtFinSF1.hist(bins=10, figsize=(5, 4))\n",
    "plt.show()"
   ]
  },
  {
   "cell_type": "markdown",
   "id": "7a5d6850-08e3-46eb-827b-cb0dc21ec324",
   "metadata": {},
   "source": [
    "Feature is needed to be standardized"
   ]
  },
  {
   "cell_type": "markdown",
   "id": "2b8279c7-f4ac-42a2-b639-91fdc18a90ed",
   "metadata": {
    "jp-MarkdownHeadingCollapsed": true
   },
   "source": [
    "### Exploring column values of BsmtFinSF2"
   ]
  },
  {
   "cell_type": "code",
   "execution_count": 38,
   "id": "c9929a60-f84b-4f66-ad59-1bb6735fab40",
   "metadata": {},
   "outputs": [
    {
     "data": {
      "text/plain": [
       "count    1460.000000\n",
       "mean       46.549315\n",
       "std       161.319273\n",
       "min         0.000000\n",
       "25%         0.000000\n",
       "50%         0.000000\n",
       "75%         0.000000\n",
       "max      1474.000000\n",
       "Name: BsmtFinSF2, dtype: float64"
      ]
     },
     "execution_count": 38,
     "metadata": {},
     "output_type": "execute_result"
    }
   ],
   "source": [
    "df.BsmtFinSF2.describe()"
   ]
  },
  {
   "cell_type": "code",
   "execution_count": 39,
   "id": "98a844e4-6f73-44f0-9912-019a76d45117",
   "metadata": {},
   "outputs": [
    {
     "name": "stdout",
     "output_type": "stream",
     "text": [
      "Number of nans in BsmtFinSF2: 0\n"
     ]
    }
   ],
   "source": [
    "n_nan = df.BsmtFinSF2.isna().sum().item()\n",
    "print(f\"Number of nans in BsmtFinSF2: {n_nan}\")"
   ]
  },
  {
   "cell_type": "code",
   "execution_count": 40,
   "id": "0b621338-729a-440a-889a-147dcb89236e",
   "metadata": {},
   "outputs": [
    {
     "data": {
      "image/png": "[encoded data removed]",
      "text/plain": [
       "<Figure size 500x400 with 1 Axes>"
      ]
     },
     "metadata": {},
     "output_type": "display_data"
    }
   ],
   "source": [
    "df.BsmtFinSF2.hist(bins=10, figsize=(5, 4))\n",
    "plt.show()"
   ]
  },
  {
   "cell_type": "markdown",
   "id": "0b6173cc-8706-4220-a7f6-cbec1837fd4b",
   "metadata": {},
   "source": [
    "Feature is clearly needed to be standardized"
   ]
  },
  {
   "cell_type": "markdown",
   "id": "cd17cd71-8404-48f8-9653-a2f9f013290d",
   "metadata": {
    "jp-MarkdownHeadingCollapsed": true
   },
   "source": [
    "### Exploring column values of BsmtUnfSF"
   ]
  },
  {
   "cell_type": "code",
   "execution_count": 41,
   "id": "4b5c2674-22d9-4adf-9bb4-2bb3479a9876",
   "metadata": {},
   "outputs": [
    {
     "data": {
      "text/plain": [
       "count    1460.000000\n",
       "mean      567.240411\n",
       "std       441.866955\n",
       "min         0.000000\n",
       "25%       223.000000\n",
       "50%       477.500000\n",
       "75%       808.000000\n",
       "max      2336.000000\n",
       "Name: BsmtUnfSF, dtype: float64"
      ]
     },
     "execution_count": 41,
     "metadata": {},
     "output_type": "execute_result"
    }
   ],
   "source": [
    "df.BsmtUnfSF.describe()"
   ]
  },
  {
   "cell_type": "code",
   "execution_count": 43,
   "id": "701ad0bb-62f8-47b2-9355-e594c9b0c441",
   "metadata": {},
   "outputs": [
    {
     "name": "stdout",
     "output_type": "stream",
     "text": [
      "Number of nans in BsmtUnfSF: 0\n"
     ]
    }
   ],
   "source": [
    "n_nan = df.BsmtUnfSF.isna().sum().item()\n",
    "print(f\"Number of nans in BsmtUnfSF: {n_nan}\")"
   ]
  },
  {
   "cell_type": "code",
   "execution_count": 44,
   "id": "81ac8151-2c11-4bee-bfa7-50eda74cfefb",
   "metadata": {},
   "outputs": [
    {
     "data": {
      "image/png": "[encoded data removed]",
      "text/plain": [
       "<Figure size 500x400 with 1 Axes>"
      ]
     },
     "metadata": {},
     "output_type": "display_data"
    }
   ],
   "source": [
    "df.BsmtUnfSF.hist(bins=10, figsize=(5, 4))\n",
    "plt.show()"
   ]
  },
  {
   "cell_type": "markdown",
   "id": "af7b8676-5114-4593-b0bc-17674c3e9641",
   "metadata": {},
   "source": [
    "Feature is clearly needed to be standardized"
   ]
  },
  {
   "cell_type": "markdown",
   "id": "2db7a87e-d37c-4e91-91ef-9fa81a3e0212",
   "metadata": {
    "jp-MarkdownHeadingCollapsed": true
   },
   "source": [
    "### Exploring column values of TotalBsmtSF"
   ]
  },
  {
   "cell_type": "code",
   "execution_count": 45,
   "id": "d6076a72-8364-492e-adb8-7bb09d315d18",
   "metadata": {},
   "outputs": [
    {
     "data": {
      "text/plain": [
       "count    1460.000000\n",
       "mean     1057.429452\n",
       "std       438.705324\n",
       "min         0.000000\n",
       "25%       795.750000\n",
       "50%       991.500000\n",
       "75%      1298.250000\n",
       "max      6110.000000\n",
       "Name: TotalBsmtSF, dtype: float64"
      ]
     },
     "execution_count": 45,
     "metadata": {},
     "output_type": "execute_result"
    }
   ],
   "source": [
    "df.TotalBsmtSF.describe()"
   ]
  },
  {
   "cell_type": "code",
   "execution_count": 46,
   "id": "d123fdf3-d726-4335-be8d-c25280d7024f",
   "metadata": {},
   "outputs": [
    {
     "name": "stdout",
     "output_type": "stream",
     "text": [
      "Number of nans in TotalBsmtSF: 0\n"
     ]
    }
   ],
   "source": [
    "n_nan = df.TotalBsmtSF.isna().sum().item()\n",
    "print(f\"Number of nans in TotalBsmtSF: {n_nan}\")"
   ]
  },
  {
   "cell_type": "code",
   "execution_count": 47,
   "id": "f295aadf-2770-45e8-ba81-aad337ed302d",
   "metadata": {},
   "outputs": [
    {
     "data": {
      "image/png": "[encoded data removed]",
      "text/plain": [
       "<Figure size 500x400 with 1 Axes>"
      ]
     },
     "metadata": {},
     "output_type": "display_data"
    }
   ],
   "source": [
    "df.TotalBsmtSF.hist(bins=10, figsize=(5, 4))\n",
    "plt.show()"
   ]
  },
  {
   "cell_type": "markdown",
   "id": "9919281e-da24-42ab-85fe-112b1ad128cd",
   "metadata": {},
   "source": [
    "Feature is clearly needed to be standardized"
   ]
  }
 ],
 "metadata": {
  "kernelspec": {
   "display_name": "Python (kaggle_house_pricing)",
   "language": "python",
   "name": "kaggle_house_pricing"
  },
  "language_info": {
   "codemirror_mode": {
    "name": "ipython",
    "version": 3
   },
   "file_extension": ".py",
   "mimetype": "text/x-python",
   "name": "python",
   "nbconvert_exporter": "python",
   "pygments_lexer": "ipython3",
   "version": "3.13.5"
  }
 },
 "nbformat": 4,
 "nbformat_minor": 5
}
